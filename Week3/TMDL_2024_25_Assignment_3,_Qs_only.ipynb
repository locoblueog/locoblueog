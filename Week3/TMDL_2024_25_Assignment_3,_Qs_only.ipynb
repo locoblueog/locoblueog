{
  "cells": [
    {
      "cell_type": "markdown",
      "metadata": {
        "id": "view-in-github",
        "colab_type": "text"
      },
      "source": [
        "<a href=\"https://colab.research.google.com/github/locoblueog/locoblueog/blob/main/Week3/TMDL_2024_25_Assignment_3%2C_Qs_only.ipynb\" target=\"_parent\"><img src=\"https://colab.research.google.com/assets/colab-badge.svg\" alt=\"Open In Colab\"/></a>"
      ]
    },
    {
      "cell_type": "markdown",
      "id": "43554d37",
      "metadata": {
        "id": "43554d37"
      },
      "source": [
        "# Turing Machine and Deep Learning 2023\n",
        "\n",
        "## Assignment Unupervised ML\n",
        "\n",
        "This notebook is meant for you to review and reflect on the content of Lecture 3, which was mainly about unsupervised learning problems. As with last week, this notebook should not be too much quantitative work (lines of code) but keep in mind that running this notebook may take a longer time than you may be used to for python programs (*training good models take time!*)\n",
        "\n",
        "### Handing in your Assignment\n",
        "\n",
        "Git is an invaluable resource to researchers and developers, and thus for this course, all course material will be (additionally) shared on GitHub. Though there is a tiny bit of a learning curve, this is worth the effort. To hand in your assignment (applicable to all weeks):\n",
        "\n",
        "1. Create a folder called \"Week 2\" and copy this notebook and any other files or data that may be needed.\n",
        "2. Finish the notebook and commit and push regularly. Your final commit before the deadline will be graded.\n",
        "\n",
        "\n",
        "### Grading\n",
        "\n",
        "Each one of the (sub-)questions below will be graded either 0 (insufficient), 1 (sufficient) or 2 (good). If $N$ is the number of sub-questions, and $p_i$ is your score for sub-question $i$, your total grade $G$ for this assignment is:\n",
        "$$G=\\frac{1}{2 N}\\sum_{i=0}^{N}p_i$$"
      ]
    },
    {
      "cell_type": "code",
      "execution_count": null,
      "id": "52fbab8b",
      "metadata": {
        "id": "52fbab8b"
      },
      "outputs": [],
      "source": [
        "# load common libraries\n",
        "import numpy as np                 # maths\n",
        "import matplotlib.pyplot as plt    # plotting\n",
        "import pandas as pd                # data manipulation\n",
        "from tqdm import tqdm              # loading bar\n",
        "from time import perf_counter      # timer"
      ]
    },
    {
      "cell_type": "markdown",
      "id": "bf4c3a0a",
      "metadata": {
        "id": "bf4c3a0a"
      },
      "source": [
        "# Q1 Loading and preprocessing data\n",
        "\n",
        "In this repository, you should find a file called `tmdb_5000_movies.csv` which is information from a subset of movies on The Movie Database."
      ]
    },
    {
      "cell_type": "markdown",
      "id": "40715541",
      "metadata": {
        "id": "40715541"
      },
      "source": [
        "### Q.1.1\n",
        "Use pandas to read in the csv file (refer to [read_csv](https://pandas.pydata.org/docs/reference/api/pandas.read_csv.html) if you're unfamiliar)."
      ]
    },
    {
      "cell_type": "code",
      "execution_count": null,
      "id": "c10a5202",
      "metadata": {
        "id": "c10a5202",
        "colab": {
          "base_uri": "https://localhost:8080/"
        },
        "outputId": "5cd67459-5cfe-4458-ff59-62bd648af322"
      },
      "outputs": [
        {
          "output_type": "stream",
          "name": "stdout",
          "text": [
            "Drive already mounted at /content/drive; to attempt to forcibly remount, call drive.mount(\"/content/drive\", force_remount=True).\n"
          ]
        }
      ],
      "source": [
        "from google.colab import drive\n",
        "\n",
        "# Mount Google Drive\n",
        "drive.mount('/content/drive')\n",
        "\n",
        "# Define the file path (assuming the file is in the root of your Google Drive)\n",
        "file_path = '/content/drive/My Drive/Colab Notebooks/tmdb_5000_movies.csv'\n",
        "\n",
        "# Load the dataset\n",
        "df = pd.read_csv(file_path)"
      ]
    },
    {
      "cell_type": "markdown",
      "id": "1915f1f7",
      "metadata": {
        "id": "1915f1f7"
      },
      "source": [
        "View information about the dataset including datatypes and null values"
      ]
    },
    {
      "cell_type": "code",
      "execution_count": null,
      "id": "c173d066",
      "metadata": {
        "id": "c173d066",
        "colab": {
          "base_uri": "https://localhost:8080/"
        },
        "outputId": "b3b28b63-ba12-4919-e37c-3d8b37c54b37"
      },
      "outputs": [
        {
          "output_type": "stream",
          "name": "stdout",
          "text": [
            "<class 'pandas.core.frame.DataFrame'>\n",
            "RangeIndex: 4803 entries, 0 to 4802\n",
            "Data columns (total 20 columns):\n",
            " #   Column                Non-Null Count  Dtype  \n",
            "---  ------                --------------  -----  \n",
            " 0   budget                4803 non-null   int64  \n",
            " 1   genres                4803 non-null   object \n",
            " 2   homepage              1712 non-null   object \n",
            " 3   id                    4803 non-null   int64  \n",
            " 4   keywords              4803 non-null   object \n",
            " 5   original_language     4803 non-null   object \n",
            " 6   original_title        4803 non-null   object \n",
            " 7   overview              4800 non-null   object \n",
            " 8   popularity            4803 non-null   float64\n",
            " 9   production_companies  4803 non-null   object \n",
            " 10  production_countries  4803 non-null   object \n",
            " 11  release_date          4802 non-null   object \n",
            " 12  revenue               4803 non-null   int64  \n",
            " 13  runtime               4801 non-null   float64\n",
            " 14  spoken_languages      4803 non-null   object \n",
            " 15  status                4803 non-null   object \n",
            " 16  tagline               3959 non-null   object \n",
            " 17  title                 4803 non-null   object \n",
            " 18  vote_average          4803 non-null   float64\n",
            " 19  vote_count            4803 non-null   int64  \n",
            "dtypes: float64(3), int64(4), object(13)\n",
            "memory usage: 750.6+ KB\n"
          ]
        }
      ],
      "source": [
        "df.info()"
      ]
    },
    {
      "cell_type": "markdown",
      "id": "4e64a24f",
      "metadata": {
        "id": "4e64a24f"
      },
      "source": [
        "**Q.1.1.2** What columns have null values above? How would you be able to estimate the missing values?"
      ]
    },
    {
      "cell_type": "markdown",
      "id": "2660fe51",
      "metadata": {
        "id": "2660fe51"
      },
      "source": [
        "*Your text answer here*"
      ]
    },
    {
      "cell_type": "markdown",
      "id": "83863820",
      "metadata": {
        "id": "83863820"
      },
      "source": [
        "### Q1.2\n",
        "For this notebook, we're only interested in a few columns, specifically title, overview and genres. Set df to only contain those columns."
      ]
    },
    {
      "cell_type": "code",
      "execution_count": null,
      "id": "4e3f0439",
      "metadata": {
        "id": "4e3f0439",
        "colab": {
          "base_uri": "https://localhost:8080/"
        },
        "outputId": "401dd11e-f9b7-425a-81b9-9ee5b14c5434"
      },
      "outputs": [
        {
          "output_type": "stream",
          "name": "stdout",
          "text": [
            "<class 'pandas.core.frame.DataFrame'>\n",
            "RangeIndex: 4803 entries, 0 to 4802\n",
            "Data columns (total 3 columns):\n",
            " #   Column    Non-Null Count  Dtype \n",
            "---  ------    --------------  ----- \n",
            " 0   title     4803 non-null   object\n",
            " 1   overview  4800 non-null   object\n",
            " 2   genres    4803 non-null   object\n",
            "dtypes: object(3)\n",
            "memory usage: 112.7+ KB\n"
          ]
        }
      ],
      "source": [
        "# Select only the necessary columns\n",
        "df = df[['title', 'overview', 'genres']]\n",
        "\n",
        "# Print out df info to verify\n",
        "df.info()"
      ]
    },
    {
      "cell_type": "markdown",
      "id": "b596e86b",
      "metadata": {
        "id": "b596e86b"
      },
      "source": [
        "### Q1.3\n",
        "We see that some movies do not have an overview. Drop them from the table and reset the index (set `drop=True`)."
      ]
    },
    {
      "cell_type": "code",
      "execution_count": null,
      "id": "a06e4f6a",
      "metadata": {
        "id": "a06e4f6a",
        "colab": {
          "base_uri": "https://localhost:8080/"
        },
        "outputId": "ee9655e0-2135-4dd2-9576-fe24d736852c"
      },
      "outputs": [
        {
          "output_type": "stream",
          "name": "stdout",
          "text": [
            "<class 'pandas.core.frame.DataFrame'>\n",
            "RangeIndex: 4800 entries, 0 to 4799\n",
            "Data columns (total 3 columns):\n",
            " #   Column    Non-Null Count  Dtype \n",
            "---  ------    --------------  ----- \n",
            " 0   title     4800 non-null   object\n",
            " 1   overview  4800 non-null   object\n",
            " 2   genres    4800 non-null   object\n",
            "dtypes: object(3)\n",
            "memory usage: 112.6+ KB\n"
          ]
        }
      ],
      "source": [
        "# Drop rows where the 'overview' column has missing values\n",
        "df = df.dropna(subset=['overview'])\n",
        "\n",
        "# Reset the index and drop the old index\n",
        "df = df.reset_index(drop=True)\n",
        "\n",
        "# Print out df info to verify\n",
        "df.info()\n"
      ]
    },
    {
      "cell_type": "markdown",
      "id": "759df3a2",
      "metadata": {
        "id": "759df3a2"
      },
      "source": [
        "# Q2 One-hot encodings\n",
        "The following code processes the genres (which you see above are list of dictionaries) and encodes them into one-hot labels.\n",
        "\n",
        "Remember, since we cannot do maths on text strings, we must change these words to numbers. Here, we create one-hot encodings for the genres. Assume we have three genres $[G_1, G_2, G_3]$. If a movie $M_1$ is tagged with genre $G_1$, the encoding is $[1,0,0]$. If another movie $M_2$ is tagged with $G2$, the encoding becomes $[0,1,0]$. Other encodings are possible as well, but one-hot encoding quite common and useful for many other tasks. In this case, if a movie is tagged with more than one genre, we'll just take a random one and encode that into a one-hot label.\n",
        "\n",
        "### Q2.1 Processing genres\n",
        "\n",
        "Finish the following code that processes genres into one-hot encodings."
      ]
    },
    {
      "cell_type": "code",
      "execution_count": null,
      "id": "dba05feb",
      "metadata": {
        "id": "dba05feb",
        "colab": {
          "base_uri": "https://localhost:8080/"
        },
        "outputId": "ca7daa9f-82ba-4cf1-aa3a-de70569826ce"
      },
      "outputs": [
        {
          "output_type": "stream",
          "name": "stderr",
          "text": [
            "100%|██████████| 4800/4800 [00:01<00:00, 4178.01it/s]"
          ]
        },
        {
          "output_type": "stream",
          "name": "stdout",
          "text": [
            "<class 'pandas.core.frame.DataFrame'>\n",
            "RangeIndex: 4800 entries, 0 to 4799\n",
            "Data columns (total 5 columns):\n",
            " #   Column          Non-Null Count  Dtype \n",
            "---  ------          --------------  ----- \n",
            " 0   title           4800 non-null   object\n",
            " 1   overview        4800 non-null   object\n",
            " 2   genres          4800 non-null   object\n",
            " 3   proc_genres     4800 non-null   object\n",
            " 4   one_hot_genres  4800 non-null   object\n",
            "dtypes: object(5)\n",
            "memory usage: 187.6+ KB\n"
          ]
        },
        {
          "output_type": "stream",
          "name": "stderr",
          "text": [
            "\n"
          ]
        }
      ],
      "source": [
        "import numpy as np\n",
        "from tqdm import tqdm\n",
        "\n",
        "np.random.seed(0)\n",
        "\n",
        "def process_genre_string(gs):\n",
        "    \"\"\" Processes genres into a single item from a list\"\"\"\n",
        "    gs = eval(gs)  # Evaluate the string as a list of dictionaries\n",
        "    gs = [x['name'] for x in gs]  # Extract genre names\n",
        "    genre = \"Unknown\"  # Default genre in case no genres are found\n",
        "    if gs:\n",
        "        genre = np.random.choice(gs)  # Choose a random genre\n",
        "    return genre\n",
        "\n",
        "def encode_labels(label, unique_labels):\n",
        "    \"\"\" Encodes text labels into a one-hot encoded list\n",
        "        :param label: the label you want to one-hot encode\n",
        "        :unique_labels: the vocabulary\n",
        "    \"\"\"\n",
        "    out = np.zeros(len(unique_labels))  # Create an array of zeros\n",
        "    if label in unique_labels:\n",
        "        out[unique_labels.index(label)] = 1  # Set the index of the label to 1\n",
        "    return out\n",
        "\n",
        "# Process the genres and store them in the 'processed_genres' list\n",
        "processed_genres = []\n",
        "for index, row in df.iterrows():\n",
        "    processed_genres.append(process_genre_string(row['genres']))\n",
        "\n",
        "# Sort and remove duplicates to get the unique genres vocabulary\n",
        "unique_genres = sorted(list(set(processed_genres)))\n",
        "\n",
        "# Add the processed genres as a new column in the DataFrame\n",
        "df[\"proc_genres\"] = processed_genres\n",
        "\n",
        "# One-hot encode the genres for each movie\n",
        "encoded_labels = []\n",
        "for index, row in tqdm(df.iterrows(), total=len(df)):\n",
        "    encoded_labels.append(encode_labels(row['proc_genres'], unique_genres))\n",
        "\n",
        "# Add the one-hot encoded genres to the DataFrame as a new column\n",
        "df[\"one_hot_genres\"] = encoded_labels\n",
        "\n",
        "# Print the DataFrame info to verify\n",
        "df.info()"
      ]
    },
    {
      "cell_type": "markdown",
      "id": "d17501a9",
      "metadata": {
        "id": "d17501a9"
      },
      "source": [
        "Verify that one-hot encodings are indeed as expected"
      ]
    },
    {
      "cell_type": "code",
      "execution_count": null,
      "id": "3b64854b",
      "metadata": {
        "id": "3b64854b",
        "colab": {
          "base_uri": "https://localhost:8080/"
        },
        "outputId": "dbd6b6ae-b34b-4f03-aa00-effdb9b0cfac"
      },
      "outputs": [
        {
          "output_type": "execute_result",
          "data": {
            "text/plain": [
              "array([1., 0., 0., 0., 0., 0., 0., 0., 0., 0., 0., 0., 0., 0., 0., 0., 0.,\n",
              "       0., 0., 0., 0.])"
            ]
          },
          "metadata": {},
          "execution_count": 28
        }
      ],
      "source": [
        "df[\"one_hot_genres\"][0]"
      ]
    },
    {
      "cell_type": "markdown",
      "id": "b0a83ece",
      "metadata": {
        "id": "b0a83ece"
      },
      "source": [
        "### Q2.2 Processing Overviews\n",
        "Next, we process the overviews. First, we remove all punctuation for the sake of simplicity and change each overview to use only lowercase. Then we need to see how long the overviews are in terms of numbers of words. We can do this with a histogram.\n",
        "\n",
        "**Q2.2.1** Finish the following code"
      ]
    },
    {
      "cell_type": "code",
      "execution_count": null,
      "id": "bfd51c53",
      "metadata": {
        "id": "bfd51c53",
        "colab": {
          "base_uri": "https://localhost:8080/",
          "height": 472
        },
        "outputId": "ee834516-26a3-4603-d745-9925c158e473"
      },
      "outputs": [
        {
          "output_type": "display_data",
          "data": {
            "text/plain": [
              "<Figure size 640x480 with 1 Axes>"
            ],
            "image/png": "[encoded data removed]"
          },
          "metadata": {}
        }
      ],
      "source": [
        "import re\n",
        "import matplotlib.pyplot as plt\n",
        "\n",
        "def remove_punctuation(text):\n",
        "    \"\"\"Only retains letters, numbers, underscores, and whitespace\"\"\"\n",
        "    pattern = r'[^\\w\\s]'\n",
        "    return re.sub(pattern, '', text)\n",
        "\n",
        "processed_overviews = []\n",
        "\n",
        "# loop over df, remove punctuation, make words lowercase, and add it to a new column\n",
        "for overview in df['overview']:\n",
        "    processed_overviews.append(remove_punctuation(overview.lower()))\n",
        "\n",
        "df[\"proc_overview\"] = processed_overviews\n",
        "\n",
        "# get the word lengths of each overview and store it in a list\n",
        "overview_lens = [len(overview.split()) for overview in df[\"proc_overview\"]]\n",
        "\n",
        "# for the sake of simplicity, add these values as a column to the df\n",
        "df[\"overview_len\"] = overview_lens\n",
        "\n",
        "# Plot the histogram of overview lengths\n",
        "plt.hist(overview_lens, bins=50, edgecolor='black')\n",
        "plt.title(\"Distribution of Overview Lengths (in words)\")\n",
        "plt.xlabel(\"Number of Words\")\n",
        "plt.ylabel(\"Frequency\")\n",
        "plt.show()\n"
      ]
    },
    {
      "cell_type": "markdown",
      "id": "58138594",
      "metadata": {
        "id": "58138594"
      },
      "source": [
        "**Q2.2.2** What is the shortest overview? What is the longest? In the next step, we need to decide on a standard length of all overviews -- this means dropping overviews less than some value, and truncating longer ones. What length would you choose to minimize the number of movies dropped and maximize the information (words) stored in the overviews?"
      ]
    },
    {
      "cell_type": "markdown",
      "id": "3b87f1af",
      "metadata": {
        "id": "3b87f1af"
      },
      "source": [
        "Shortest overview: 0 words (error?)\n",
        "Longest overview: 175 words\n",
        "\n",
        "Looking at the peak of the distribution, the histogram shows the highest frequency of overviews is between 25-70 words.\n",
        "\n",
        "-> Set a minimum threshold around 25 words to capture most overviews\n",
        "-> Cut out overviews longer than 75 words\n",
        "\n",
        "Through this, I can retain most of the existing overview while minimising information loss."
      ]
    },
    {
      "cell_type": "markdown",
      "id": "54e6cb90",
      "metadata": {
        "id": "54e6cb90"
      },
      "source": [
        "### Q2.2.3\n",
        "Let's choose overviews of length 15 words. What this means is we need to discard movies that have overviews less than 15 (there are other ways of dealing with it, but this should be fine for now) and truncate the higher ones to the first 15 words."
      ]
    },
    {
      "cell_type": "code",
      "execution_count": null,
      "id": "70854211",
      "metadata": {
        "id": "70854211",
        "colab": {
          "base_uri": "https://localhost:8080/",
          "height": 826
        },
        "outputId": "ce097c29-2402-43c9-f03a-284f054492e8"
      },
      "outputs": [
        {
          "output_type": "stream",
          "name": "stderr",
          "text": [
            "<ipython-input-30-06c99df63b5e>:8: SettingWithCopyWarning: \n",
            "A value is trying to be set on a copy of a slice from a DataFrame.\n",
            "Try using .loc[row_indexer,col_indexer] = value instead\n",
            "\n",
            "See the caveats in the documentation: https://pandas.pydata.org/pandas-docs/stable/user_guide/indexing.html#returning-a-view-versus-a-copy\n",
            "  df[\"proc_overview\"] = df[\"proc_overview\"].apply(lambda x: ' '.join(x.split()[:token_len]))\n"
          ]
        },
        {
          "output_type": "execute_result",
          "data": {
            "text/plain": [
              "                                         title  \\\n",
              "0                                       Avatar   \n",
              "1     Pirates of the Caribbean: At World's End   \n",
              "2                                      Spectre   \n",
              "3                        The Dark Knight Rises   \n",
              "4                                  John Carter   \n",
              "...                                        ...   \n",
              "4794                                    Cavite   \n",
              "4795                               El Mariachi   \n",
              "4797                 Signed, Sealed, Delivered   \n",
              "4798                          Shanghai Calling   \n",
              "4799                         My Date with Drew   \n",
              "\n",
              "                                               overview  \\\n",
              "0     In the 22nd century, a paraplegic Marine is di...   \n",
              "1     Captain Barbossa, long believed to be dead, ha...   \n",
              "2     A cryptic message from Bond’s past sends him o...   \n",
              "3     Following the death of District Attorney Harve...   \n",
              "4     John Carter is a war-weary, former military ca...   \n",
              "...                                                 ...   \n",
              "4794  Adam, a security guard, travels from Californi...   \n",
              "4795  El Mariachi just wants to play his guitar and ...   \n",
              "4797  \"Signed, Sealed, Delivered\" introduces a dedic...   \n",
              "4798  When ambitious New York attorney Sam is sent t...   \n",
              "4799  Ever since the second grade when he first saw ...   \n",
              "\n",
              "                                                 genres  proc_genres  \\\n",
              "0     [{\"id\": 28, \"name\": \"Action\"}, {\"id\": 12, \"nam...       Action   \n",
              "1     [{\"id\": 12, \"name\": \"Adventure\"}, {\"id\": 14, \"...      Fantasy   \n",
              "2     [{\"id\": 28, \"name\": \"Action\"}, {\"id\": 12, \"nam...       Action   \n",
              "3     [{\"id\": 28, \"name\": \"Action\"}, {\"id\": 80, \"nam...     Thriller   \n",
              "4     [{\"id\": 28, \"name\": \"Action\"}, {\"id\": 12, \"nam...    Adventure   \n",
              "...                                                 ...          ...   \n",
              "4794  [{\"id\": 10769, \"name\": \"Foreign\"}, {\"id\": 53, ...     Thriller   \n",
              "4795  [{\"id\": 28, \"name\": \"Action\"}, {\"id\": 80, \"nam...        Crime   \n",
              "4797  [{\"id\": 35, \"name\": \"Comedy\"}, {\"id\": 18, \"nam...     TV Movie   \n",
              "4798                                                 []      Unknown   \n",
              "4799                [{\"id\": 99, \"name\": \"Documentary\"}]  Documentary   \n",
              "\n",
              "                                         one_hot_genres  \\\n",
              "0     [1.0, 0.0, 0.0, 0.0, 0.0, 0.0, 0.0, 0.0, 0.0, ...   \n",
              "1     [0.0, 0.0, 0.0, 0.0, 0.0, 0.0, 0.0, 0.0, 1.0, ...   \n",
              "2     [1.0, 0.0, 0.0, 0.0, 0.0, 0.0, 0.0, 0.0, 0.0, ...   \n",
              "3     [0.0, 0.0, 0.0, 0.0, 0.0, 0.0, 0.0, 0.0, 0.0, ...   \n",
              "4     [0.0, 1.0, 0.0, 0.0, 0.0, 0.0, 0.0, 0.0, 0.0, ...   \n",
              "...                                                 ...   \n",
              "4794  [0.0, 0.0, 0.0, 0.0, 0.0, 0.0, 0.0, 0.0, 0.0, ...   \n",
              "4795  [0.0, 0.0, 0.0, 0.0, 1.0, 0.0, 0.0, 0.0, 0.0, ...   \n",
              "4797  [0.0, 0.0, 0.0, 0.0, 0.0, 0.0, 0.0, 0.0, 0.0, ...   \n",
              "4798  [0.0, 0.0, 0.0, 0.0, 0.0, 0.0, 0.0, 0.0, 0.0, ...   \n",
              "4799  [0.0, 0.0, 0.0, 0.0, 0.0, 1.0, 0.0, 0.0, 0.0, ...   \n",
              "\n",
              "                                          proc_overview  overview_len  \n",
              "0     in the 22nd century a paraplegic marine is dis...            28  \n",
              "1     captain barbossa long believed to be dead has ...            34  \n",
              "2     a cryptic message from bonds past sends him on...            41  \n",
              "3     following the death of district attorney harve...            65  \n",
              "4     john carter is a warweary former military capt...            55  \n",
              "...                                                 ...           ...  \n",
              "4794  adam a security guard travels from california ...           115  \n",
              "4795  el mariachi just wants to play his guitar and ...            62  \n",
              "4797  signed sealed delivered introduces a dedicated...            73  \n",
              "4798  when ambitious new york attorney sam is sent t...            65  \n",
              "4799  ever since the second grade when he first saw ...            62  \n",
              "\n",
              "[4707 rows x 7 columns]"
            ],
            "text/html": [
              "\n",
              "  <div id=\"df-6b792fdc-4190-430f-b5ae-d5cb20e3c007\" class=\"colab-df-container\">\n",
              "    <div>\n",
              "<style scoped>\n",
              "    .dataframe tbody tr th:only-of-type {\n",
              "        vertical-align: middle;\n",
              "    }\n",
              "\n",
              "    .dataframe tbody tr th {\n",
              "        vertical-align: top;\n",
              "    }\n",
              "\n",
              "    .dataframe thead th {\n",
              "        text-align: right;\n",
              "    }\n",
              "</style>\n",
              "<table border=\"1\" class=\"dataframe\">\n",
              "  <thead>\n",
              "    <tr style=\"text-align: right;\">\n",
              "      <th></th>\n",
              "      <th>title</th>\n",
              "      <th>overview</th>\n",
              "      <th>genres</th>\n",
              "      <th>proc_genres</th>\n",
              "      <th>one_hot_genres</th>\n",
              "      <th>proc_overview</th>\n",
              "      <th>overview_len</th>\n",
              "    </tr>\n",
              "  </thead>\n",
              "  <tbody>\n",
              "    <tr>\n",
              "      <th>0</th>\n",
              "      <td>Avatar</td>\n",
              "      <td>In the 22nd century, a paraplegic Marine is di...</td>\n",
              "      <td>[{\"id\": 28, \"name\": \"Action\"}, {\"id\": 12, \"nam...</td>\n",
              "      <td>Action</td>\n",
              "      <td>[1.0, 0.0, 0.0, 0.0, 0.0, 0.0, 0.0, 0.0, 0.0, ...</td>\n",
              "      <td>in the 22nd century a paraplegic marine is dis...</td>\n",
              "      <td>28</td>\n",
              "    </tr>\n",
              "    <tr>\n",
              "      <th>1</th>\n",
              "      <td>Pirates of the Caribbean: At World's End</td>\n",
              "      <td>Captain Barbossa, long believed to be dead, ha...</td>\n",
              "      <td>[{\"id\": 12, \"name\": \"Adventure\"}, {\"id\": 14, \"...</td>\n",
              "      <td>Fantasy</td>\n",
              "      <td>[0.0, 0.0, 0.0, 0.0, 0.0, 0.0, 0.0, 0.0, 1.0, ...</td>\n",
              "      <td>captain barbossa long believed to be dead has ...</td>\n",
              "      <td>34</td>\n",
              "    </tr>\n",
              "    <tr>\n",
              "      <th>2</th>\n",
              "      <td>Spectre</td>\n",
              "      <td>A cryptic message from Bond’s past sends him o...</td>\n",
              "      <td>[{\"id\": 28, \"name\": \"Action\"}, {\"id\": 12, \"nam...</td>\n",
              "      <td>Action</td>\n",
              "      <td>[1.0, 0.0, 0.0, 0.0, 0.0, 0.0, 0.0, 0.0, 0.0, ...</td>\n",
              "      <td>a cryptic message from bonds past sends him on...</td>\n",
              "      <td>41</td>\n",
              "    </tr>\n",
              "    <tr>\n",
              "      <th>3</th>\n",
              "      <td>The Dark Knight Rises</td>\n",
              "      <td>Following the death of District Attorney Harve...</td>\n",
              "      <td>[{\"id\": 28, \"name\": \"Action\"}, {\"id\": 80, \"nam...</td>\n",
              "      <td>Thriller</td>\n",
              "      <td>[0.0, 0.0, 0.0, 0.0, 0.0, 0.0, 0.0, 0.0, 0.0, ...</td>\n",
              "      <td>following the death of district attorney harve...</td>\n",
              "      <td>65</td>\n",
              "    </tr>\n",
              "    <tr>\n",
              "      <th>4</th>\n",
              "      <td>John Carter</td>\n",
              "      <td>John Carter is a war-weary, former military ca...</td>\n",
              "      <td>[{\"id\": 28, \"name\": \"Action\"}, {\"id\": 12, \"nam...</td>\n",
              "      <td>Adventure</td>\n",
              "      <td>[0.0, 1.0, 0.0, 0.0, 0.0, 0.0, 0.0, 0.0, 0.0, ...</td>\n",
              "      <td>john carter is a warweary former military capt...</td>\n",
              "      <td>55</td>\n",
              "    </tr>\n",
              "    <tr>\n",
              "      <th>...</th>\n",
              "      <td>...</td>\n",
              "      <td>...</td>\n",
              "      <td>...</td>\n",
              "      <td>...</td>\n",
              "      <td>...</td>\n",
              "      <td>...</td>\n",
              "      <td>...</td>\n",
              "    </tr>\n",
              "    <tr>\n",
              "      <th>4794</th>\n",
              "      <td>Cavite</td>\n",
              "      <td>Adam, a security guard, travels from Californi...</td>\n",
              "      <td>[{\"id\": 10769, \"name\": \"Foreign\"}, {\"id\": 53, ...</td>\n",
              "      <td>Thriller</td>\n",
              "      <td>[0.0, 0.0, 0.0, 0.0, 0.0, 0.0, 0.0, 0.0, 0.0, ...</td>\n",
              "      <td>adam a security guard travels from california ...</td>\n",
              "      <td>115</td>\n",
              "    </tr>\n",
              "    <tr>\n",
              "      <th>4795</th>\n",
              "      <td>El Mariachi</td>\n",
              "      <td>El Mariachi just wants to play his guitar and ...</td>\n",
              "      <td>[{\"id\": 28, \"name\": \"Action\"}, {\"id\": 80, \"nam...</td>\n",
              "      <td>Crime</td>\n",
              "      <td>[0.0, 0.0, 0.0, 0.0, 1.0, 0.0, 0.0, 0.0, 0.0, ...</td>\n",
              "      <td>el mariachi just wants to play his guitar and ...</td>\n",
              "      <td>62</td>\n",
              "    </tr>\n",
              "    <tr>\n",
              "      <th>4797</th>\n",
              "      <td>Signed, Sealed, Delivered</td>\n",
              "      <td>\"Signed, Sealed, Delivered\" introduces a dedic...</td>\n",
              "      <td>[{\"id\": 35, \"name\": \"Comedy\"}, {\"id\": 18, \"nam...</td>\n",
              "      <td>TV Movie</td>\n",
              "      <td>[0.0, 0.0, 0.0, 0.0, 0.0, 0.0, 0.0, 0.0, 0.0, ...</td>\n",
              "      <td>signed sealed delivered introduces a dedicated...</td>\n",
              "      <td>73</td>\n",
              "    </tr>\n",
              "    <tr>\n",
              "      <th>4798</th>\n",
              "      <td>Shanghai Calling</td>\n",
              "      <td>When ambitious New York attorney Sam is sent t...</td>\n",
              "      <td>[]</td>\n",
              "      <td>Unknown</td>\n",
              "      <td>[0.0, 0.0, 0.0, 0.0, 0.0, 0.0, 0.0, 0.0, 0.0, ...</td>\n",
              "      <td>when ambitious new york attorney sam is sent t...</td>\n",
              "      <td>65</td>\n",
              "    </tr>\n",
              "    <tr>\n",
              "      <th>4799</th>\n",
              "      <td>My Date with Drew</td>\n",
              "      <td>Ever since the second grade when he first saw ...</td>\n",
              "      <td>[{\"id\": 99, \"name\": \"Documentary\"}]</td>\n",
              "      <td>Documentary</td>\n",
              "      <td>[0.0, 0.0, 0.0, 0.0, 0.0, 1.0, 0.0, 0.0, 0.0, ...</td>\n",
              "      <td>ever since the second grade when he first saw ...</td>\n",
              "      <td>62</td>\n",
              "    </tr>\n",
              "  </tbody>\n",
              "</table>\n",
              "<p>4707 rows × 7 columns</p>\n",
              "</div>\n",
              "    <div class=\"colab-df-buttons\">\n",
              "\n",
              "  <div class=\"colab-df-container\">\n",
              "    <button class=\"colab-df-convert\" onclick=\"convertToInteractive('df-6b792fdc-4190-430f-b5ae-d5cb20e3c007')\"\n",
              "            title=\"Convert this dataframe to an interactive table.\"\n",
              "            style=\"display:none;\">\n",
              "\n",
              "  <svg xmlns=\"http://www.w3.org/2000/svg\" height=\"24px\" viewBox=\"0 -960 960 960\">\n",
              "    <path d=\"M120-120v-720h720v720H120Zm60-500h600v-160H180v160Zm220 220h160v-160H400v160Zm0 220h160v-160H400v160ZM180-400h160v-160H180v160Zm440 0h160v-160H620v160ZM180-180h160v-160H180v160Zm440 0h160v-160H620v160Z\"/>\n",
              "  </svg>\n",
              "    </button>\n",
              "\n",
              "  <style>\n",
              "    .colab-df-container {\n",
              "      display:flex;\n",
              "      gap: 12px;\n",
              "    }\n",
              "\n",
              "    .colab-df-convert {\n",
              "      background-color: #E8F0FE;\n",
              "      border: none;\n",
              "      border-radius: 50%;\n",
              "      cursor: pointer;\n",
              "      display: none;\n",
              "      fill: #1967D2;\n",
              "      height: 32px;\n",
              "      padding: 0 0 0 0;\n",
              "      width: 32px;\n",
              "    }\n",
              "\n",
              "    .colab-df-convert:hover {\n",
              "      background-color: #E2EBFA;\n",
              "      box-shadow: 0px 1px 2px rgba(60, 64, 67, 0.3), 0px 1px 3px 1px rgba(60, 64, 67, 0.15);\n",
              "      fill: #174EA6;\n",
              "    }\n",
              "\n",
              "    .colab-df-buttons div {\n",
              "      margin-bottom: 4px;\n",
              "    }\n",
              "\n",
              "    [theme=dark] .colab-df-convert {\n",
              "      background-color: #3B4455;\n",
              "      fill: #D2E3FC;\n",
              "    }\n",
              "\n",
              "    [theme=dark] .colab-df-convert:hover {\n",
              "      background-color: #434B5C;\n",
              "      box-shadow: 0px 1px 3px 1px rgba(0, 0, 0, 0.15);\n",
              "      filter: drop-shadow(0px 1px 2px rgba(0, 0, 0, 0.3));\n",
              "      fill: #FFFFFF;\n",
              "    }\n",
              "  </style>\n",
              "\n",
              "    <script>\n",
              "      const buttonEl =\n",
              "        document.querySelector('#df-6b792fdc-4190-430f-b5ae-d5cb20e3c007 button.colab-df-convert');\n",
              "      buttonEl.style.display =\n",
              "        google.colab.kernel.accessAllowed ? 'block' : 'none';\n",
              "\n",
              "      async function convertToInteractive(key) {\n",
              "        const element = document.querySelector('#df-6b792fdc-4190-430f-b5ae-d5cb20e3c007');\n",
              "        const dataTable =\n",
              "          await google.colab.kernel.invokeFunction('convertToInteractive',\n",
              "                                                    [key], {});\n",
              "        if (!dataTable) return;\n",
              "\n",
              "        const docLinkHtml = 'Like what you see? Visit the ' +\n",
              "          '<a target=\"_blank\" href=https://colab.research.google.com/notebooks/data_table.ipynb>data table notebook</a>'\n",
              "          + ' to learn more about interactive tables.';\n",
              "        element.innerHTML = '';\n",
              "        dataTable['output_type'] = 'display_data';\n",
              "        await google.colab.output.renderOutput(dataTable, element);\n",
              "        const docLink = document.createElement('div');\n",
              "        docLink.innerHTML = docLinkHtml;\n",
              "        element.appendChild(docLink);\n",
              "      }\n",
              "    </script>\n",
              "  </div>\n",
              "\n",
              "\n",
              "<div id=\"df-2154e00a-e41d-4866-b5f3-e998a02dd1cd\">\n",
              "  <button class=\"colab-df-quickchart\" onclick=\"quickchart('df-2154e00a-e41d-4866-b5f3-e998a02dd1cd')\"\n",
              "            title=\"Suggest charts\"\n",
              "            style=\"display:none;\">\n",
              "\n",
              "<svg xmlns=\"http://www.w3.org/2000/svg\" height=\"24px\"viewBox=\"0 0 24 24\"\n",
              "     width=\"24px\">\n",
              "    <g>\n",
              "        <path d=\"M19 3H5c-1.1 0-2 .9-2 2v14c0 1.1.9 2 2 2h14c1.1 0 2-.9 2-2V5c0-1.1-.9-2-2-2zM9 17H7v-7h2v7zm4 0h-2V7h2v10zm4 0h-2v-4h2v4z\"/>\n",
              "    </g>\n",
              "</svg>\n",
              "  </button>\n",
              "\n",
              "<style>\n",
              "  .colab-df-quickchart {\n",
              "      --bg-color: #E8F0FE;\n",
              "      --fill-color: #1967D2;\n",
              "      --hover-bg-color: #E2EBFA;\n",
              "      --hover-fill-color: #174EA6;\n",
              "      --disabled-fill-color: #AAA;\n",
              "      --disabled-bg-color: #DDD;\n",
              "  }\n",
              "\n",
              "  [theme=dark] .colab-df-quickchart {\n",
              "      --bg-color: #3B4455;\n",
              "      --fill-color: #D2E3FC;\n",
              "      --hover-bg-color: #434B5C;\n",
              "      --hover-fill-color: #FFFFFF;\n",
              "      --disabled-bg-color: #3B4455;\n",
              "      --disabled-fill-color: #666;\n",
              "  }\n",
              "\n",
              "  .colab-df-quickchart {\n",
              "    background-color: var(--bg-color);\n",
              "    border: none;\n",
              "    border-radius: 50%;\n",
              "    cursor: pointer;\n",
              "    display: none;\n",
              "    fill: var(--fill-color);\n",
              "    height: 32px;\n",
              "    padding: 0;\n",
              "    width: 32px;\n",
              "  }\n",
              "\n",
              "  .colab-df-quickchart:hover {\n",
              "    background-color: var(--hover-bg-color);\n",
              "    box-shadow: 0 1px 2px rgba(60, 64, 67, 0.3), 0 1px 3px 1px rgba(60, 64, 67, 0.15);\n",
              "    fill: var(--button-hover-fill-color);\n",
              "  }\n",
              "\n",
              "  .colab-df-quickchart-complete:disabled,\n",
              "  .colab-df-quickchart-complete:disabled:hover {\n",
              "    background-color: var(--disabled-bg-color);\n",
              "    fill: var(--disabled-fill-color);\n",
              "    box-shadow: none;\n",
              "  }\n",
              "\n",
              "  .colab-df-spinner {\n",
              "    border: 2px solid var(--fill-color);\n",
              "    border-color: transparent;\n",
              "    border-bottom-color: var(--fill-color);\n",
              "    animation:\n",
              "      spin 1s steps(1) infinite;\n",
              "  }\n",
              "\n",
              "  @keyframes spin {\n",
              "    0% {\n",
              "      border-color: transparent;\n",
              "      border-bottom-color: var(--fill-color);\n",
              "      border-left-color: var(--fill-color);\n",
              "    }\n",
              "    20% {\n",
              "      border-color: transparent;\n",
              "      border-left-color: var(--fill-color);\n",
              "      border-top-color: var(--fill-color);\n",
              "    }\n",
              "    30% {\n",
              "      border-color: transparent;\n",
              "      border-left-color: var(--fill-color);\n",
              "      border-top-color: var(--fill-color);\n",
              "      border-right-color: var(--fill-color);\n",
              "    }\n",
              "    40% {\n",
              "      border-color: transparent;\n",
              "      border-right-color: var(--fill-color);\n",
              "      border-top-color: var(--fill-color);\n",
              "    }\n",
              "    60% {\n",
              "      border-color: transparent;\n",
              "      border-right-color: var(--fill-color);\n",
              "    }\n",
              "    80% {\n",
              "      border-color: transparent;\n",
              "      border-right-color: var(--fill-color);\n",
              "      border-bottom-color: var(--fill-color);\n",
              "    }\n",
              "    90% {\n",
              "      border-color: transparent;\n",
              "      border-bottom-color: var(--fill-color);\n",
              "    }\n",
              "  }\n",
              "</style>\n",
              "\n",
              "  <script>\n",
              "    async function quickchart(key) {\n",
              "      const quickchartButtonEl =\n",
              "        document.querySelector('#' + key + ' button');\n",
              "      quickchartButtonEl.disabled = true;  // To prevent multiple clicks.\n",
              "      quickchartButtonEl.classList.add('colab-df-spinner');\n",
              "      try {\n",
              "        const charts = await google.colab.kernel.invokeFunction(\n",
              "            'suggestCharts', [key], {});\n",
              "      } catch (error) {\n",
              "        console.error('Error during call to suggestCharts:', error);\n",
              "      }\n",
              "      quickchartButtonEl.classList.remove('colab-df-spinner');\n",
              "      quickchartButtonEl.classList.add('colab-df-quickchart-complete');\n",
              "    }\n",
              "    (() => {\n",
              "      let quickchartButtonEl =\n",
              "        document.querySelector('#df-2154e00a-e41d-4866-b5f3-e998a02dd1cd button');\n",
              "      quickchartButtonEl.style.display =\n",
              "        google.colab.kernel.accessAllowed ? 'block' : 'none';\n",
              "    })();\n",
              "  </script>\n",
              "</div>\n",
              "\n",
              "  <div id=\"id_8e3aec32-26a2-4d02-8ac9-e482bca9d8d5\">\n",
              "    <style>\n",
              "      .colab-df-generate {\n",
              "        background-color: #E8F0FE;\n",
              "        border: none;\n",
              "        border-radius: 50%;\n",
              "        cursor: pointer;\n",
              "        display: none;\n",
              "        fill: #1967D2;\n",
              "        height: 32px;\n",
              "        padding: 0 0 0 0;\n",
              "        width: 32px;\n",
              "      }\n",
              "\n",
              "      .colab-df-generate:hover {\n",
              "        background-color: #E2EBFA;\n",
              "        box-shadow: 0px 1px 2px rgba(60, 64, 67, 0.3), 0px 1px 3px 1px rgba(60, 64, 67, 0.15);\n",
              "        fill: #174EA6;\n",
              "      }\n",
              "\n",
              "      [theme=dark] .colab-df-generate {\n",
              "        background-color: #3B4455;\n",
              "        fill: #D2E3FC;\n",
              "      }\n",
              "\n",
              "      [theme=dark] .colab-df-generate:hover {\n",
              "        background-color: #434B5C;\n",
              "        box-shadow: 0px 1px 3px 1px rgba(0, 0, 0, 0.15);\n",
              "        filter: drop-shadow(0px 1px 2px rgba(0, 0, 0, 0.3));\n",
              "        fill: #FFFFFF;\n",
              "      }\n",
              "    </style>\n",
              "    <button class=\"colab-df-generate\" onclick=\"generateWithVariable('df')\"\n",
              "            title=\"Generate code using this dataframe.\"\n",
              "            style=\"display:none;\">\n",
              "\n",
              "  <svg xmlns=\"http://www.w3.org/2000/svg\" height=\"24px\"viewBox=\"0 0 24 24\"\n",
              "       width=\"24px\">\n",
              "    <path d=\"M7,19H8.4L18.45,9,17,7.55,7,17.6ZM5,21V16.75L18.45,3.32a2,2,0,0,1,2.83,0l1.4,1.43a1.91,1.91,0,0,1,.58,1.4,1.91,1.91,0,0,1-.58,1.4L9.25,21ZM18.45,9,17,7.55Zm-12,3A5.31,5.31,0,0,0,4.9,8.1,5.31,5.31,0,0,0,1,6.5,5.31,5.31,0,0,0,4.9,4.9,5.31,5.31,0,0,0,6.5,1,5.31,5.31,0,0,0,8.1,4.9,5.31,5.31,0,0,0,12,6.5,5.46,5.46,0,0,0,6.5,12Z\"/>\n",
              "  </svg>\n",
              "    </button>\n",
              "    <script>\n",
              "      (() => {\n",
              "      const buttonEl =\n",
              "        document.querySelector('#id_8e3aec32-26a2-4d02-8ac9-e482bca9d8d5 button.colab-df-generate');\n",
              "      buttonEl.style.display =\n",
              "        google.colab.kernel.accessAllowed ? 'block' : 'none';\n",
              "\n",
              "      buttonEl.onclick = () => {\n",
              "        google.colab.notebook.generateWithVariable('df');\n",
              "      }\n",
              "      })();\n",
              "    </script>\n",
              "  </div>\n",
              "\n",
              "    </div>\n",
              "  </div>\n"
            ],
            "application/vnd.google.colaboratory.intrinsic+json": {
              "type": "dataframe",
              "variable_name": "df",
              "summary": "{\n  \"name\": \"df\",\n  \"rows\": 4707,\n  \"fields\": [\n    {\n      \"column\": \"title\",\n      \"properties\": {\n        \"dtype\": \"string\",\n        \"num_unique_values\": 4704,\n        \"samples\": [\n          \"A Dog's Breakfast\",\n          \"The Chorus\",\n          \"Water for Elephants\"\n        ],\n        \"semantic_type\": \"\",\n        \"description\": \"\"\n      }\n    },\n    {\n      \"column\": \"overview\",\n      \"properties\": {\n        \"dtype\": \"string\",\n        \"num_unique_values\": 4707,\n        \"samples\": [\n          \"When Jay and Annie first got together, their romantic connection was intense \\u2013 but ten years and two kids later, the flame of their love needs a spark.  To kick things up a notch, they decide \\u2013 why not? \\u2013 to make a video of themselves trying out every position in The Joy of Sex in one marathon three-hour session.  It seems like a great idea \\u2013 until they discover that their most private video is no longer private.  With their reputations on the line, they know they\\u2019re just one click away from being laid bare to the world... but as their race to reclaim their video leads to a night they'll never forget, they'll find that their video will expose even more than they bargained for.\",\n          \"Forensic psychologist Alex Cross travels to North Carolina and teams with escaped kidnap victim Kate McTiernan to hunt down \\\"Casanova,\\\" a serial killer who abducts strong-willed women and forces them to submit to his demands. The trail leads to Los Angeles, where the duo discovers that the psychopath may not be working alone.\",\n          \"Tilen (18), an attractive high school student, swears to be faithful forever in the hope that his girlfriend will let him sleep with her. Suddenly, a sequence of tragic events turns his world upside down. He starts to believe he is under a spell which could put his life in jeopardy, which prevents him from having a relationship with Sara (18), his one true love. He finally succeeds to get his life back on the right track with the help of his best friend Zeljko, a mysterious fortune-teller, and the power of love.\"\n        ],\n        \"semantic_type\": \"\",\n        \"description\": \"\"\n      }\n    },\n    {\n      \"column\": \"genres\",\n      \"properties\": {\n        \"dtype\": \"category\",\n        \"num_unique_values\": 1165,\n        \"samples\": [\n          \"[{\\\"id\\\": 35, \\\"name\\\": \\\"Comedy\\\"}, {\\\"id\\\": 9648, \\\"name\\\": \\\"Mystery\\\"}, {\\\"id\\\": 53, \\\"name\\\": \\\"Thriller\\\"}]\",\n          \"[{\\\"id\\\": 14, \\\"name\\\": \\\"Fantasy\\\"}, {\\\"id\\\": 28, \\\"name\\\": \\\"Action\\\"}, {\\\"id\\\": 12, \\\"name\\\": \\\"Adventure\\\"}, {\\\"id\\\": 16, \\\"name\\\": \\\"Animation\\\"}, {\\\"id\\\": 35, \\\"name\\\": \\\"Comedy\\\"}, {\\\"id\\\": 10751, \\\"name\\\": \\\"Family\\\"}]\",\n          \"[{\\\"id\\\": 14, \\\"name\\\": \\\"Fantasy\\\"}, {\\\"id\\\": 28, \\\"name\\\": \\\"Action\\\"}, {\\\"id\\\": 878, \\\"name\\\": \\\"Science Fiction\\\"}, {\\\"id\\\": 53, \\\"name\\\": \\\"Thriller\\\"}, {\\\"id\\\": 27, \\\"name\\\": \\\"Horror\\\"}]\"\n        ],\n        \"semantic_type\": \"\",\n        \"description\": \"\"\n      }\n    },\n    {\n      \"column\": \"proc_genres\",\n      \"properties\": {\n        \"dtype\": \"category\",\n        \"num_unique_values\": 21,\n        \"samples\": [\n          \"Action\",\n          \"Documentary\",\n          \"History\"\n        ],\n        \"semantic_type\": \"\",\n        \"description\": \"\"\n      }\n    },\n    {\n      \"column\": \"one_hot_genres\",\n      \"properties\": {\n        \"dtype\": \"object\",\n        \"semantic_type\": \"\",\n        \"description\": \"\"\n      }\n    },\n    {\n      \"column\": \"proc_overview\",\n      \"properties\": {\n        \"dtype\": \"string\",\n        \"num_unique_values\": 4707,\n        \"samples\": [\n          \"when jay and annie first got together their romantic connection was intense but ten years\",\n          \"forensic psychologist alex cross travels to north carolina and teams with escaped kidnap victim kate\",\n          \"tilen 18 an attractive high school student swears to be faithful forever in the hope\"\n        ],\n        \"semantic_type\": \"\",\n        \"description\": \"\"\n      }\n    },\n    {\n      \"column\": \"overview_len\",\n      \"properties\": {\n        \"dtype\": \"number\",\n        \"std\": 27,\n        \"min\": 15,\n        \"max\": 175,\n        \"num_unique_values\": 154,\n        \"samples\": [\n          109,\n          112,\n          131\n        ],\n        \"semantic_type\": \"\",\n        \"description\": \"\"\n      }\n    }\n  ]\n}"
            }
          },
          "metadata": {},
          "execution_count": 30
        }
      ],
      "source": [
        "token_len = 15  # number of words\n",
        "\n",
        "# Select rows where overview length is more than or equal to token_len\n",
        "df = df[df[\"overview_len\"] >= token_len]\n",
        "\n",
        "# Split each proc_overview into a list of words, select the first token_len words,\n",
        "# and add the list of words back into df[\"proc_overview\"]\n",
        "df[\"proc_overview\"] = df[\"proc_overview\"].apply(lambda x: ' '.join(x.split()[:token_len]))\n",
        "\n",
        "# Print to verify\n",
        "df"
      ]
    },
    {
      "cell_type": "markdown",
      "id": "26e092dd",
      "metadata": {
        "id": "26e092dd"
      },
      "source": [
        "### Q2.2.3 Finding the vocabulary length\n",
        "\n",
        "In order to one-hot encode words, we need to find how many words there are in total, just like in the case of genres. Get all the words, remove duplicates, and sort. Find and print the length of your vocabulary."
      ]
    },
    {
      "cell_type": "code",
      "execution_count": null,
      "id": "a71a750b",
      "metadata": {
        "id": "a71a750b",
        "colab": {
          "base_uri": "https://localhost:8080/"
        },
        "outputId": "dd7bcc60-e6cd-494c-db19-9311fa2fb83b"
      },
      "outputs": [
        {
          "output_type": "stream",
          "name": "stdout",
          "text": [
            "12493\n"
          ]
        }
      ],
      "source": [
        "# Get all words from proc_overview, split by spaces, and store them in a set to remove duplicates\n",
        "all_words = set()\n",
        "df[\"proc_overview\"].apply(lambda x: all_words.update(x.split()))\n",
        "\n",
        "# Convert the set to a sorted list\n",
        "sorted_vocab = sorted(list(all_words))\n",
        "\n",
        "# Find the length of the vocabulary\n",
        "vocab_len = len(sorted_vocab)\n",
        "print(vocab_len)"
      ]
    },
    {
      "cell_type": "markdown",
      "id": "f276b825",
      "metadata": {
        "id": "f276b825"
      },
      "source": [
        "### Q2.2.4 Encoding the labels\n",
        "\n",
        "In the case of genres, we one-hot encoded the outputs by taking a single random genre. However, an alternative method is to add up the one-hot encodings to form some kind of histogram. For example, if we have an overview \"a brown dog\", and our vocab is \\[a brown, big, cabbage, dog, goat, cow, turkey\\], the one-hot vector would be \\[1,1,0,0,1,0,0,0\\]. If our overview is \"a big brown dog\", the one-hot vector would be \\[1,1,1,0,1,0,0,0\\]. If our overview is \"a big big brown dog\", the one-hot vector would be \\[1,1,2,0,1,0,0,0\\]. You can use the `encode_labels` function that you defined earlier."
      ]
    },
    {
      "cell_type": "code",
      "execution_count": null,
      "id": "d212192f",
      "metadata": {
        "id": "d212192f",
        "colab": {
          "base_uri": "https://localhost:8080/",
          "height": 259
        },
        "outputId": "6dd8853a-a911-42e5-ab12-bf2bf6b96e9c"
      },
      "outputs": [
        {
          "output_type": "stream",
          "name": "stderr",
          "text": [
            "100%|██████████| 4707/4707 [01:31<00:00, 51.65it/s]\n"
          ]
        },
        {
          "output_type": "execute_result",
          "data": {
            "text/plain": [
              "0    [0.0, 0.0, 0.0, 0.0, 0.0, 0.0, 0.0, 0.0, 0.0, ...\n",
              "1    [0.0, 0.0, 0.0, 0.0, 0.0, 0.0, 0.0, 0.0, 0.0, ...\n",
              "2    [0.0, 0.0, 0.0, 0.0, 0.0, 0.0, 0.0, 0.0, 0.0, ...\n",
              "3    [0.0, 0.0, 0.0, 0.0, 0.0, 0.0, 0.0, 0.0, 0.0, ...\n",
              "4    [0.0, 0.0, 0.0, 0.0, 0.0, 0.0, 0.0, 0.0, 0.0, ...\n",
              "Name: one_hot_overview, dtype: object"
            ],
            "text/html": [
              "<div>\n",
              "<style scoped>\n",
              "    .dataframe tbody tr th:only-of-type {\n",
              "        vertical-align: middle;\n",
              "    }\n",
              "\n",
              "    .dataframe tbody tr th {\n",
              "        vertical-align: top;\n",
              "    }\n",
              "\n",
              "    .dataframe thead th {\n",
              "        text-align: right;\n",
              "    }\n",
              "</style>\n",
              "<table border=\"1\" class=\"dataframe\">\n",
              "  <thead>\n",
              "    <tr style=\"text-align: right;\">\n",
              "      <th></th>\n",
              "      <th>one_hot_overview</th>\n",
              "    </tr>\n",
              "  </thead>\n",
              "  <tbody>\n",
              "    <tr>\n",
              "      <th>0</th>\n",
              "      <td>[0.0, 0.0, 0.0, 0.0, 0.0, 0.0, 0.0, 0.0, 0.0, ...</td>\n",
              "    </tr>\n",
              "    <tr>\n",
              "      <th>1</th>\n",
              "      <td>[0.0, 0.0, 0.0, 0.0, 0.0, 0.0, 0.0, 0.0, 0.0, ...</td>\n",
              "    </tr>\n",
              "    <tr>\n",
              "      <th>2</th>\n",
              "      <td>[0.0, 0.0, 0.0, 0.0, 0.0, 0.0, 0.0, 0.0, 0.0, ...</td>\n",
              "    </tr>\n",
              "    <tr>\n",
              "      <th>3</th>\n",
              "      <td>[0.0, 0.0, 0.0, 0.0, 0.0, 0.0, 0.0, 0.0, 0.0, ...</td>\n",
              "    </tr>\n",
              "    <tr>\n",
              "      <th>4</th>\n",
              "      <td>[0.0, 0.0, 0.0, 0.0, 0.0, 0.0, 0.0, 0.0, 0.0, ...</td>\n",
              "    </tr>\n",
              "  </tbody>\n",
              "</table>\n",
              "</div><br><label><b>dtype:</b> object</label>"
            ]
          },
          "metadata": {},
          "execution_count": 32
        }
      ],
      "source": [
        "# Function to encode words into one-hot vectors based on the vocabulary\n",
        "def encode_labels(label, unique_labels):\n",
        "    \"\"\" Encodes text labels into a one-hot encoded list \"\"\"\n",
        "    out = np.zeros(len(unique_labels))  # Initialize the one-hot vector\n",
        "    if label in unique_labels:\n",
        "        out[unique_labels.index(label)] = 1  # Set the corresponding index to 1\n",
        "    return out\n",
        "\n",
        "# Initialize list to store encoded labels for each overview\n",
        "encoded_labels = []\n",
        "\n",
        "# Loop over each movie overview\n",
        "for index, row in tqdm(df.iterrows(), total=len(df)):\n",
        "    sentence_encode = np.zeros(len(sorted_vocab))  # Initialize a zero vector for the sentence\n",
        "    for word in row[\"proc_overview\"]:  # Loop over each word in the overview\n",
        "        word_encode = encode_labels(word, sorted_vocab)  # Get the one-hot encoding for the word\n",
        "        sentence_encode += word_encode  # Sum the encodings for each word\n",
        "    encoded_labels.append(sentence_encode)  # Store the one-hot encoding for the overview\n",
        "\n",
        "# Add the one-hot encoded overviews to the DataFrame\n",
        "df[\"one_hot_overview\"] = encoded_labels\n",
        "\n",
        "# Print the one-hot encoded overviews to verify\n",
        "df[\"one_hot_overview\"].head()\n"
      ]
    },
    {
      "cell_type": "markdown",
      "id": "7c62e127",
      "metadata": {
        "id": "7c62e127"
      },
      "source": [
        "**Q2.2.5** Each vector is a vector of floating point (64-bit) numbers. Assuming each float takes up exactly 16-bytes, how many bytes does this take to store (theoretically)?"
      ]
    },
    {
      "cell_type": "code",
      "source": [
        "num_movies = df.shape[0]  # number of rows (movies)\n",
        "print(f'Number of movies: {num_movies}')\n",
        "\n",
        "# Assuming you have processed the overviews and stored the unique words in a list or set\n",
        "all_words = [word for overview in df[\"proc_overview\"] for word in overview]\n",
        "unique_words = sorted(set(all_words))\n",
        "vocab_len = len(unique_words)\n",
        "print(f'Vocabulary length: {vocab_len}')\n"
      ],
      "metadata": {
        "colab": {
          "base_uri": "https://localhost:8080/"
        },
        "id": "YCNvl8eVPTqB",
        "outputId": "517628cf-6313-4a0c-c206-ca9b06a45874"
      },
      "id": "YCNvl8eVPTqB",
      "execution_count": null,
      "outputs": [
        {
          "output_type": "stream",
          "name": "stdout",
          "text": [
            "Number of movies: 4707\n",
            "Vocabulary length: 50\n"
          ]
        }
      ]
    },
    {
      "cell_type": "markdown",
      "id": "193b8235",
      "metadata": {
        "id": "193b8235"
      },
      "source": [
        "Vocabulary length: 50\n",
        "\n",
        "Size of each element: 16 bytes (as given).\n",
        "\n",
        "Number of movies (rows): 4707.\n",
        "\n",
        "Total bytes = 4707 * 16 * 50 = 3765600\n",
        "-> 3.77mb"
      ]
    },
    {
      "cell_type": "markdown",
      "id": "1f3b3700",
      "metadata": {
        "id": "1f3b3700"
      },
      "source": [
        "# Q3 Principal Component Analysis\n",
        "\n",
        "**Q3.1** Using the overview encoded into one-hot encodings, perform PCA and plot this into a 2-D image as a scatter plot."
      ]
    },
    {
      "cell_type": "code",
      "execution_count": null,
      "id": "832f2be7",
      "metadata": {
        "id": "832f2be7",
        "colab": {
          "base_uri": "https://localhost:8080/",
          "height": 583
        },
        "outputId": "5c1ee984-3d92-4045-bdf4-62b24053b080"
      },
      "outputs": [
        {
          "output_type": "display_data",
          "data": {
            "text/plain": [
              "<Figure size 800x600 with 1 Axes>"
            ],
            "image/png": "[encoded data removed]"
          },
          "metadata": {}
        },
        {
          "output_type": "stream",
          "name": "stdout",
          "text": [
            "Explained variance ratio by PCA components: [0.15433037 0.10300005]\n"
          ]
        }
      ],
      "source": [
        "# Ensure that the 'one_hot_overview' column contains valid array-like objects (lists or arrays)\n",
        "import numpy as np\n",
        "import pandas as pd\n",
        "\n",
        "# Convert one-hot encodings into a list of lists for PCA input\n",
        "# Since the one-hot encodings are already lists/arrays, we can directly convert them\n",
        "one_hot_matrix = df['one_hot_overview'].apply(lambda x: np.array(x) if isinstance(x, str) else x)  # Convert string to array if needed\n",
        "one_hot_matrix = np.stack(one_hot_matrix)  # Convert list of arrays into a 2D matrix\n",
        "\n",
        "# Normalize the data (just in case, although for binary encoding, it's not strictly necessary)\n",
        "one_hot_matrix = one_hot_matrix / np.max(one_hot_matrix, axis=1, keepdims=True)  # Normalize to 0-1\n",
        "\n",
        "# Set up PCA object (you can adjust n_components based on your preference)\n",
        "from sklearn.decomposition import PCA\n",
        "pca = PCA(n_components=2)  # Reduce to 2 components for 2D visualization\n",
        "\n",
        "# Perform PCA\n",
        "principal_components = pca.fit_transform(one_hot_matrix)\n",
        "\n",
        "# Plotting the principal components in a 2D scatter plot\n",
        "import matplotlib.pyplot as plt\n",
        "\n",
        "plt.figure(figsize=(8, 6))\n",
        "plt.scatter(principal_components[:, 0], principal_components[:, 1], alpha=0.6)\n",
        "plt.title('PCA of Movie Overviews (One-Hot Encoded)', fontsize=14)\n",
        "plt.xlabel('Principal Component 1')\n",
        "plt.ylabel('Principal Component 2')\n",
        "plt.show()\n",
        "\n",
        "# Optionally: Display the explained variance ratio (to understand how much variance is captured by each component)\n",
        "print(f\"Explained variance ratio by PCA components: {pca.explained_variance_ratio_}\")\n"
      ]
    },
    {
      "cell_type": "markdown",
      "id": "a63054b6",
      "metadata": {
        "id": "a63054b6"
      },
      "source": [
        "There's no clear, obvious clustering or separation, also no distinct groups or subgroups immediatly visible. The data seems to be distributed around the center."
      ]
    },
    {
      "cell_type": "markdown",
      "id": "4482c5e5",
      "metadata": {
        "id": "4482c5e5"
      },
      "source": [
        "**Q3.3** Quantify how much variance information a 2D PCA projection loses for this dataset."
      ]
    },
    {
      "cell_type": "markdown",
      "id": "2338a25d",
      "metadata": {
        "id": "2338a25d"
      },
      "source": [
        "The 2D PCA projection retains 25.73% (PC1 + PC2) of the original variance.\n",
        "\n",
        "Thus, the projection loses 74.27% of the variance in the original data."
      ]
    },
    {
      "cell_type": "markdown",
      "id": "7da99ba5",
      "metadata": {
        "id": "7da99ba5"
      },
      "source": [
        "**Q3.4** Plot a line graph where the y-axis is cumulative explained variance ratio and the x-axis is the number of PCA components."
      ]
    },
    {
      "cell_type": "code",
      "source": [
        "# Perform PCA with the desired number of components\n",
        "pca = PCA(n_components=50)  # Set the desired number of components\n",
        "# Fit and transform the one-hot overview data\n",
        "x_train_pca = pca.fit_transform(one_hot_matrix)\n",
        "\n",
        "# Explained variance ratio for each component\n",
        "powers = pca.explained_variance_ratio_\n",
        "\n",
        "# Plot explained variance for each component\n",
        "plt.plot(powers, label=\"Explained variance\")\n",
        "\n",
        "# Plot cumulative explained variance\n",
        "cumulative_powers = [np.sum(powers[:i]) for i in range(1, len(powers) + 1)]\n",
        "plt.plot(cumulative_powers, label=\"Cumulative explained variance\")\n",
        "\n",
        "# Add labels and legend\n",
        "plt.xlabel('Number of PCA Components')\n",
        "plt.ylabel('Variance Explained')\n",
        "plt.title('Explained and Cumulative Explained Variance by PCA Components')\n",
        "plt.legend()\n",
        "\n",
        "# Show the plot\n",
        "plt.show()"
      ],
      "metadata": {
        "colab": {
          "base_uri": "https://localhost:8080/",
          "height": 472
        },
        "id": "y-FeTN0oT29u",
        "outputId": "b9b281e4-1a7d-4ea9-9ba4-1169a1c754fb"
      },
      "id": "y-FeTN0oT29u",
      "execution_count": null,
      "outputs": [
        {
          "output_type": "display_data",
          "data": {
            "text/plain": [
              "<Figure size 640x480 with 1 Axes>"
            ],
            "image/png": "[encoded data removed]"
          },
          "metadata": {}
        }
      ]
    },
    {
      "cell_type": "markdown",
      "id": "8b36c9b2",
      "metadata": {
        "id": "8b36c9b2"
      },
      "source": [
        "**Q3.5** How many principal components do you need in order to explain 80% of the total variance in the data?\n",
        "\n",
        "Note: don't just estimate it by eye, write some code to compute it for you."
      ]
    },
    {
      "cell_type": "code",
      "execution_count": null,
      "id": "95c44b2d",
      "metadata": {
        "id": "95c44b2d",
        "colab": {
          "base_uri": "https://localhost:8080/"
        },
        "outputId": "5d421897-66ad-4ad9-e8cc-f09fdc9ba8f6"
      },
      "outputs": [
        {
          "output_type": "stream",
          "name": "stdout",
          "text": [
            "Number of components needed to explain 80% of the variance: 12\n"
          ]
        }
      ],
      "source": [
        "#Assuming you have the one-hot matrix (e.g., 'one_hot_matrix') already set up\n",
        "pca = PCA(n_components=50)  # Set the desired number of components\n",
        "one_hot_matrix_pca = pca.fit_transform(one_hot_matrix)  # Fit and transform the one-hot encoded data\n",
        "\n",
        "# Cumulative explained variance\n",
        "cumulative_variance = np.cumsum(pca.explained_variance_ratio_)\n",
        "\n",
        "# Find the number of components that explain at least 80% of the variance\n",
        "components_needed = np.argmax(cumulative_variance >= 0.80) + 1  # Adding 1 since index is 0-based\n",
        "\n",
        "print(f\"Number of components needed to explain 80% of the variance: {components_needed}\")"
      ]
    },
    {
      "cell_type": "markdown",
      "source": [
        "You need 12 components to explain 80% of the variance."
      ],
      "metadata": {
        "id": "UKwr0WuPVy7R"
      },
      "id": "UKwr0WuPVy7R"
    },
    {
      "cell_type": "markdown",
      "id": "ee3b5c33",
      "metadata": {
        "id": "ee3b5c33"
      },
      "source": [
        "**Q3.6** Using the number of dimensions you found in Q3.5, fit and transform your overview encodings using PCA and add it to a new column called `overview_pca` in the dataframe."
      ]
    },
    {
      "cell_type": "code",
      "execution_count": null,
      "id": "8a6eb40b",
      "metadata": {
        "id": "8a6eb40b",
        "colab": {
          "base_uri": "https://localhost:8080/"
        },
        "outputId": "f0edbc49-2aba-4780-ff26-74065e42ff93"
      },
      "outputs": [
        {
          "output_type": "stream",
          "name": "stdout",
          "text": [
            "0    [0.19767330919653303, -0.3552458341695793, 0.1...\n",
            "1    [-0.18667611943839885, -0.4161388794630013, -0...\n",
            "2    [0.22727645376009178, -0.010361356622259675, 0...\n",
            "3    [0.06644283816635428, 0.3197833672021245, 0.06...\n",
            "4    [0.2931187130702432, -0.01634466286130857, 0.5...\n",
            "Name: overview_pca, dtype: object\n",
            "(4707, 12)\n"
          ]
        }
      ],
      "source": [
        "n_dims = components_needed\n",
        "\n",
        "# Initialize the PCA object with the determined number of components\n",
        "pca = PCA(n_components=n_dims)\n",
        "\n",
        "# Fit and transform the one-hot encoded overview data (i.e., 'one_hot_matrix')\n",
        "labels_pca = pca.fit_transform(one_hot_matrix)\n",
        "\n",
        "# Add the transformed PCA components as a new column in the DataFrame\n",
        "df[\"overview_pca\"] = list(labels_pca)  # Convert the resulting array to a list for easier storage in the DataFrame\n",
        "\n",
        "# Check the first few rows of the new 'overview_pca' column to see the PCA components\n",
        "print(df['overview_pca'].head())\n",
        "\n",
        "# Check shape of PCA result\n",
        "print(labels_pca.shape)  # Should show (number_of_samples, n_dims)\n"
      ]
    },
    {
      "cell_type": "markdown",
      "id": "309d3256",
      "metadata": {
        "id": "309d3256"
      },
      "source": [
        "# Q4 K-Means Clustering\n",
        "\n",
        "**Q4.1** Cluster the movies based on the features that were extracted via PCA in the last step. Set $K=20$. Add the predicted cluster into the dataframe as a new column called `cluster_kmeans`. Print out the elements of cluster number 0 from the dataframe."
      ]
    },
    {
      "cell_type": "code",
      "execution_count": null,
      "id": "f5f5781e",
      "metadata": {
        "id": "f5f5781e",
        "colab": {
          "base_uri": "https://localhost:8080/"
        },
        "outputId": "dde8f04f-92b6-4699-c3e7-cdf861843f7c"
      },
      "outputs": [
        {
          "output_type": "stream",
          "name": "stdout",
          "text": [
            "                                   title  \\\n",
            "24                             King Kong   \n",
            "72                         Suicide Squad   \n",
            "77                            Inside Out   \n",
            "151                              Beowulf   \n",
            "169   Captain America: The First Avenger   \n",
            "...                                  ...   \n",
            "4742         The Brain That Wouldn't Die   \n",
            "4748                            Gabriela   \n",
            "4751                       The Naked Ape   \n",
            "4769                        Down Terrace   \n",
            "4783                    Breaking Upwards   \n",
            "\n",
            "                                               overview  \\\n",
            "24    In 1933 New York, an overly ambitious movie pr...   \n",
            "72    From DC Comics comes the Suicide Squad, an ant...   \n",
            "77    Growing up can be a bumpy road, and it's no ex...   \n",
            "151   6th-century Scandinavian warrior, Beowulf emba...   \n",
            "169   Predominantly set during World War II, Steve R...   \n",
            "...                                                 ...   \n",
            "4742  Dr. Bill Cortner (Jason Evers) and his fiancée...   \n",
            "4748  In 1925, Gabriela becomes cook, mistress, and ...   \n",
            "4751  The Naked Ape is a coming-of-age film followin...   \n",
            "4769  After serving jail time for a mysterious crime...   \n",
            "4783  'Breaking Upwards' explores a young, real-life...   \n",
            "\n",
            "                                                 genres      proc_genres  \\\n",
            "24    [{\"id\": 12, \"name\": \"Adventure\"}, {\"id\": 18, \"...        Adventure   \n",
            "72    [{\"id\": 28, \"name\": \"Action\"}, {\"id\": 12, \"nam...          Fantasy   \n",
            "77    [{\"id\": 18, \"name\": \"Drama\"}, {\"id\": 35, \"name...        Animation   \n",
            "151   [{\"id\": 12, \"name\": \"Adventure\"}, {\"id\": 28, \"...        Adventure   \n",
            "169   [{\"id\": 28, \"name\": \"Action\"}, {\"id\": 12, \"nam...  Science Fiction   \n",
            "...                                                 ...              ...   \n",
            "4742  [{\"id\": 27, \"name\": \"Horror\"}, {\"id\": 878, \"na...  Science Fiction   \n",
            "4748  [{\"id\": 18, \"name\": \"Drama\"}, {\"id\": 10749, \"n...          Romance   \n",
            "4751  [{\"id\": 18, \"name\": \"Drama\"}, {\"id\": 35, \"name...           Family   \n",
            "4769  [{\"id\": 18, \"name\": \"Drama\"}, {\"id\": 28, \"name...            Drama   \n",
            "4783  [{\"id\": 35, \"name\": \"Comedy\"}, {\"id\": 10749, \"...           Comedy   \n",
            "\n",
            "                                         one_hot_genres  \\\n",
            "24    [0.0, 1.0, 0.0, 0.0, 0.0, 0.0, 0.0, 0.0, 0.0, ...   \n",
            "72    [0.0, 0.0, 0.0, 0.0, 0.0, 0.0, 0.0, 0.0, 1.0, ...   \n",
            "77    [0.0, 0.0, 1.0, 0.0, 0.0, 0.0, 0.0, 0.0, 0.0, ...   \n",
            "151   [0.0, 1.0, 0.0, 0.0, 0.0, 0.0, 0.0, 0.0, 0.0, ...   \n",
            "169   [0.0, 0.0, 0.0, 0.0, 0.0, 0.0, 0.0, 0.0, 0.0, ...   \n",
            "...                                                 ...   \n",
            "4742  [0.0, 0.0, 0.0, 0.0, 0.0, 0.0, 0.0, 0.0, 0.0, ...   \n",
            "4748  [0.0, 0.0, 0.0, 0.0, 0.0, 0.0, 0.0, 0.0, 0.0, ...   \n",
            "4751  [0.0, 0.0, 0.0, 0.0, 0.0, 0.0, 0.0, 1.0, 0.0, ...   \n",
            "4769  [0.0, 0.0, 0.0, 0.0, 0.0, 0.0, 1.0, 0.0, 0.0, ...   \n",
            "4783  [0.0, 0.0, 0.0, 1.0, 0.0, 0.0, 0.0, 0.0, 0.0, ...   \n",
            "\n",
            "                                          proc_overview  overview_len  \\\n",
            "24    in 1933 new york an overly ambitious movie pro...            37   \n",
            "72    from dc comics comes the suicide squad an anti...            34   \n",
            "77    growing up can be a bumpy road and its no exce...           111   \n",
            "151   6thcentury scandinavian warrior beowulf embark...            18   \n",
            "169   predominantly set during world war ii steve ro...            57   \n",
            "...                                                 ...           ...   \n",
            "4742  dr bill cortner jason evers and his fiancée ja...            73   \n",
            "4748  in 1925 gabriela becomes cook mistress and the...            60   \n",
            "4751  the naked ape is a comingofage film following ...            18   \n",
            "4769  after serving jail time for a mysterious crime...            74   \n",
            "4783  breaking upwards explores a young reallife new...            96   \n",
            "\n",
            "                                       one_hot_overview  \\\n",
            "24    [0.0, 0.0, 1.0, 0.0, 0.0, 0.0, 0.0, 0.0, 0.0, ...   \n",
            "72    [0.0, 0.0, 0.0, 0.0, 0.0, 0.0, 0.0, 0.0, 0.0, ...   \n",
            "77    [0.0, 0.0, 0.0, 0.0, 0.0, 0.0, 0.0, 0.0, 0.0, ...   \n",
            "151   [0.0, 0.0, 0.0, 0.0, 0.0, 0.0, 0.0, 0.0, 0.0, ...   \n",
            "169   [0.0, 0.0, 0.0, 0.0, 0.0, 0.0, 0.0, 0.0, 0.0, ...   \n",
            "...                                                 ...   \n",
            "4742  [0.0, 0.0, 0.0, 0.0, 0.0, 0.0, 0.0, 0.0, 0.0, ...   \n",
            "4748  [0.0, 0.0, 1.0, 0.0, 0.0, 0.0, 0.0, 0.0, 0.0, ...   \n",
            "4751  [0.0, 0.0, 0.0, 0.0, 0.0, 0.0, 0.0, 0.0, 0.0, ...   \n",
            "4769  [0.0, 0.0, 0.0, 0.0, 0.0, 0.0, 0.0, 0.0, 0.0, ...   \n",
            "4783  [0.0, 0.0, 0.0, 0.0, 0.0, 0.0, 0.0, 0.0, 0.0, ...   \n",
            "\n",
            "                                           overview_pca  cluster_kmeans  \n",
            "24    [0.2670307677558773, 0.09697890741292131, -0.0...               0  \n",
            "72    [0.4195484796360317, 0.025393242354342514, 0.1...               0  \n",
            "77    [0.5561253984936754, -0.26837055680294175, -0....               0  \n",
            "151   [0.35414051789305856, -0.33459707414596, 0.112...               0  \n",
            "169   [0.2855444321763121, -0.05096905937679273, 0.0...               0  \n",
            "...                                                 ...             ...  \n",
            "4742  [0.34792829266594183, -0.235312391610631, -0.1...               0  \n",
            "4748  [0.2626679027359814, -0.2981836102040432, -0.1...               0  \n",
            "4751  [0.005633854491203297, -0.2353077082021569, 0....               0  \n",
            "4769  [0.29958636634177516, -0.028356391796398647, 0...               0  \n",
            "4783  [0.13023133010644494, -0.40673654407843507, 0....               0  \n",
            "\n",
            "[234 rows x 10 columns]\n"
          ]
        }
      ],
      "source": [
        "# import KMeans class\n",
        "from sklearn.cluster import KMeans\n",
        "\n",
        "# Set the number of clusters (K = 20)\n",
        "k = 20\n",
        "\n",
        "# Perform K-means clustering\n",
        "kmeans = KMeans(n_clusters=k, random_state=42)  # Set random_state for reproducibility\n",
        "\n",
        "# Fit the model on the PCA-transformed data\n",
        "kmeans.fit(df['overview_pca'].tolist())  # Make sure the overview_pca column is a list of arrays\n",
        "\n",
        "# Get predictions (cluster assignments)\n",
        "y_preds = kmeans.predict(df['overview_pca'].tolist())\n",
        "\n",
        "# Add the predicted cluster to the dataframe as a new column\n",
        "df['cluster_kmeans'] = y_preds\n",
        "\n",
        "# Print out elements of cluster number 0\n",
        "cluster_0 = df[df['cluster_kmeans'] == 0]\n",
        "print(cluster_0)\n"
      ]
    },
    {
      "cell_type": "markdown",
      "id": "34334c6c",
      "metadata": {
        "id": "34334c6c"
      },
      "source": [
        "**Q4.2** Does this clustering seem alright to you (based on your movie watching history)? Are there movies that go well together and movies that don't?"
      ]
    },
    {
      "cell_type": "markdown",
      "id": "9f1d40cc",
      "metadata": {
        "id": "9f1d40cc"
      },
      "source": [
        "Intuitively, this seems to makes sense. E.g. Suicide Squad, King Kong and Captain America are all action movies. They seem to have been clustered by the genres of Action, Adventure,...\n",
        "\n",
        "There is still some subtle genre indifferencs, that PCA did not fully grasp (with the current number of 12 components)."
      ]
    },
    {
      "cell_type": "markdown",
      "id": "0407f9e4",
      "metadata": {
        "id": "0407f9e4"
      },
      "source": [
        "**Q4.3** Now, we'll figure out whether using the elbow method is right for this dataset. Plot a loss (using `kmeans.inertia_`) versus cluster size plot. Is there an elbow that you see clearly? What cluster size would you choose?"
      ]
    },
    {
      "cell_type": "markdown",
      "id": "4984dcd9",
      "metadata": {
        "id": "4984dcd9"
      },
      "source": [
        "The inertia starts very high at 1-2 clusters (around 2400).\n",
        "There's a sharp, steep decline in inertia from 1 to about 5-6 clusters.\n",
        "After 8-10 clusters, the curve begins to flatten significantly.\n",
        "\n",
        "The most prominent elbow appears around 8-9 clusters. At this point:\n",
        "- The rate of inertia reduction slows dramatically.\n",
        "- You capture most of the meaningful structure in the data.\n",
        "- Adding more clusters provides minimal additional (marginal) information.\n",
        "\n",
        "I would recommend choosing 9 clusters because:\n",
        "\n",
        "It sits at the most noticeable inflection point of the curve, thus balancing model complexity with information capture.\n",
        "Beyond this point, you're essentially overfitting the data with additional clusters that don't provide substantial new insights."
      ]
    },
    {
      "cell_type": "code",
      "execution_count": null,
      "id": "cb3a37ee",
      "metadata": {
        "id": "cb3a37ee",
        "colab": {
          "base_uri": "https://localhost:8080/",
          "height": 472
        },
        "outputId": "b64b2ef3-1088-49da-c9c0-efdb81775e9c"
      },
      "outputs": [
        {
          "output_type": "display_data",
          "data": {
            "text/plain": [
              "<Figure size 640x480 with 1 Axes>"
            ],
            "image/png": "[encoded data removed]"
          },
          "metadata": {}
        }
      ],
      "source": [
        "import matplotlib.pyplot as plt\n",
        "from sklearn.cluster import KMeans\n",
        "\n",
        "# List to store inertia values\n",
        "inertia_values = []\n",
        "\n",
        "# Test for a range of cluster sizes (e.g., from 1 to 30 clusters)\n",
        "cluster_range = range(1, 31)\n",
        "\n",
        "# Loop over different cluster sizes\n",
        "for k in cluster_range:\n",
        "    kmeans = KMeans(n_clusters=k, random_state=42)\n",
        "    kmeans.fit(df[\"overview_pca\"].tolist())  # Fit using the PCA features\n",
        "    inertia_values.append(kmeans.inertia_)  # Store inertia (loss)\n",
        "\n",
        "# Plotting the loss (inertia) versus cluster size\n",
        "plt.plot(cluster_range, inertia_values, marker='o', linestyle='--')\n",
        "plt.title(\"K-Means Elbow Method\")\n",
        "plt.xlabel(\"Number of Clusters\")\n",
        "plt.ylabel(\"Inertia (Loss)\")\n",
        "plt.grid(True)\n",
        "plt.show()"
      ]
    },
    {
      "cell_type": "markdown",
      "id": "3e89e224",
      "metadata": {
        "id": "3e89e224"
      },
      "source": [
        "# Q5 Gaussian Mixture Models\n",
        "\n",
        "**Q5.1** As with the K-means above, cluster the movies based on the features that were extracted via PCA in a previous step. Set $K=20$. Add the predicted cluster into the dataframe as a new column called `cluster_gmm`. Print out the elements of a single cluster of your choice from the dataframe."
      ]
    },
    {
      "cell_type": "code",
      "execution_count": null,
      "id": "86735028",
      "metadata": {
        "id": "86735028",
        "colab": {
          "base_uri": "https://localhost:8080/"
        },
        "outputId": "aa7984c1-487f-454f-e316-029ac747727b"
      },
      "outputs": [
        {
          "output_type": "stream",
          "name": "stdout",
          "text": [
            "                                                  title  \\\n",
            "24                                            King Kong   \n",
            "72                                        Suicide Squad   \n",
            "366                                          Hollow Man   \n",
            "375                                    Bicentennial Man   \n",
            "377                                     The Devil's Own   \n",
            "...                                                 ...   \n",
            "4171  Dr. Strangelove or: How I Learned to Stop Worr...   \n",
            "4241                               Forty Shades of Blue   \n",
            "4311                                         Below Zero   \n",
            "4408                                   The Party's Over   \n",
            "4569                                       Metropolitan   \n",
            "\n",
            "                                               overview  cluster_gmm  \n",
            "24    In 1933 New York, an overly ambitious movie pr...            0  \n",
            "72    From DC Comics comes the Suicide Squad, an ant...            0  \n",
            "366   Cocky researcher, Sebastian Caine is working o...            0  \n",
            "375   Richard Martin buys a gift, a new NDR-114 robo...            0  \n",
            "377   Frankie McGuire, one of the IRA's deadliest as...            0  \n",
            "...                                                 ...          ...  \n",
            "4171  Insane General Jack D. Ripper initiates a nucl...            0  \n",
            "4241  A Russian woman living in Memphis with a much ...            0  \n",
            "4311  When Jack (Edward Furlong) is in danger of mis...            0  \n",
            "4408  An American businessman visits London and is h...            0  \n",
            "4569  A sparkling comedic chronicle of a middle-clas...            0  \n",
            "\n",
            "[66 rows x 3 columns]\n"
          ]
        }
      ],
      "source": [
        "from sklearn.mixture import GaussianMixture\n",
        "\n",
        "# Set the number of clusters (K) to 20\n",
        "k = 20\n",
        "\n",
        "# Fit a Gaussian Mixture Model with 20 components\n",
        "gmm = GaussianMixture(n_components=k, random_state=42)\n",
        "gmm.fit(df[\"overview_pca\"].tolist())  # Fit the model on the PCA features\n",
        "\n",
        "# Predict the clusters for each movie\n",
        "y_gmm_preds = gmm.predict(df[\"overview_pca\"].tolist())\n",
        "\n",
        "# Add the predicted clusters as a new column in the DataFrame\n",
        "df[\"cluster_gmm\"] = y_gmm_preds\n",
        "\n",
        "# Print out elements of a single cluster (e.g., cluster number 0)\n",
        "cluster_number = 0\n",
        "cluster_elements = df[df[\"cluster_gmm\"] == cluster_number]\n",
        "\n",
        "# Display the movies in cluster 0\n",
        "print(cluster_elements[[\"title\", \"overview\", \"cluster_gmm\"]])\n"
      ]
    },
    {
      "cell_type": "markdown",
      "id": "95ed02d9",
      "metadata": {
        "id": "95ed02d9"
      },
      "source": [
        "**Q4.2** Does this clustering seem alright to you (based on your movie watching history)? Are there movies that go well together and movies that don't? How does this compare to K-Means Clustering?"
      ]
    },
    {
      "cell_type": "markdown",
      "id": "c62e20dd",
      "metadata": {
        "id": "c62e20dd"
      },
      "source": [
        "After analyzing the GMM clustering, the cluster composition appears somewhat random, with movies spanning diverse genres and eras (e.g., King Kong, Dr. Strangelove, Forty Shades of Blue). This suggests the current clustering method might not be effectively capturing semantic similarities and differences between movie overviews.\n",
        "Compared to K-Means, GMM offer more probabilistic cluster assignments and can create overlapping, non-spherical clusters.\n",
        "\n",
        "The clustering appears to be using insufficiently distinctive features."
      ]
    },
    {
      "cell_type": "markdown",
      "id": "3b0064a1",
      "metadata": {
        "id": "3b0064a1"
      },
      "source": [
        "**Q4.3** Let's check out the size of the clusters. Create a double bar plot (**as you did in the last assignment**) showing the different sizes of the clusters.\n",
        "\n",
        "*Hint: you may want to consider `df.value_counts()` if you're unfamiliar.*"
      ]
    },
    {
      "cell_type": "code",
      "execution_count": null,
      "id": "e775ad4f",
      "metadata": {
        "id": "e775ad4f",
        "colab": {
          "base_uri": "https://localhost:8080/",
          "height": 564
        },
        "outputId": "493ba132-c286-425c-cd68-6adce5a08ba2"
      },
      "outputs": [
        {
          "output_type": "display_data",
          "data": {
            "text/plain": [
              "<Figure size 1000x600 with 1 Axes>"
            ],
            "image/png": "[encoded data removed]"
          },
          "metadata": {}
        }
      ],
      "source": [
        "import matplotlib.pyplot as plt\n",
        "\n",
        "# Get the count of movies in each cluster\n",
        "cluster_sizes = df[\"cluster_gmm\"].value_counts()\n",
        "\n",
        "# Create the bar plot for cluster sizes\n",
        "plt.figure(figsize=(10, 6))\n",
        "plt.bar(cluster_sizes.index, cluster_sizes.values, color='skyblue')\n",
        "\n",
        "# Add labels, title, and legend\n",
        "plt.xlabel('Cluster Number')\n",
        "plt.ylabel('Number of Movies')\n",
        "plt.title('Size of Clusters in Gaussian Mixture Model')\n",
        "plt.xticks(cluster_sizes.index)  # Make sure the x-ticks match the cluster numbers\n",
        "plt.show()"
      ]
    },
    {
      "cell_type": "markdown",
      "id": "cfc124da",
      "metadata": {
        "id": "cfc124da"
      },
      "source": [
        "**Q4.4** Do you see a significant difference in the sizes of the clusters? Which is more uniform? Any thought on why?"
      ]
    },
    {
      "cell_type": "markdown",
      "id": "9f538519",
      "metadata": {
        "id": "9f538519"
      },
      "source": [
        "There are significant differences in cluster sizes.\n",
        "\n",
        "Cluster 6 and 7 are the largest, containing around 800-850 movies.\n",
        "Clusters 1,4,15 and 17 are also substantial, with 300-500 movies.\n",
        "The other clusters are quite small, with fewer than 100 movies.\n",
        "\n",
        "The distribution is highly non-uniform, as large differences in cluster size exist.\n",
        "\n",
        "Potential Reasons:\n",
        "- Uneven distribution of movie overview characteristics (e.g. much more action movies than dramas)\n",
        "- Oversensitivity of the model to certain feature dimensions"
      ]
    },
    {
      "cell_type": "markdown",
      "id": "aa60615d",
      "metadata": {
        "id": "aa60615d"
      },
      "source": [
        "# Q6: A very simple recommender system\n",
        "\n",
        "One useful thing that clustering is often used for (though at a much greater complexity) is in **recommender systems**. These are systems with users and items (movies, files, documents, etc.), where new items are shown to the user based on what they've previously interacted with, and possibly also on the behaviour of other users.\n",
        "\n",
        "**Q6.1** Assume your dentist has just watched the movie Avatar and asks you for a recommendation. Lucky for you, you just finished this assignment. Using the cluster indices of the movie Avatar for both the K-means and GMM methods, print out suggestions for new movies."
      ]
    },
    {
      "cell_type": "code",
      "execution_count": null,
      "id": "86a74f68",
      "metadata": {
        "id": "86a74f68",
        "colab": {
          "base_uri": "https://localhost:8080/"
        },
        "outputId": "810a3727-9db1-4b89-8cd0-1a908e571187"
      },
      "outputs": [
        {
          "output_type": "stream",
          "name": "stdout",
          "text": [
            "Movies recommended based on K-Means clustering (cluster 10):\n",
            "['Skyfall', 'Alice in Wonderland', 'X-Men: The Last Stand', 'The Chronicles of Narnia: The Lion, the Witch and the Wardrobe', 'The Polar Express', 'Terminator 3: Rise of the Machines', 'Frozen', 'G-Force', 'Dark Shadows', 'Die Another Day', 'Men in Black II', 'The World Is Not Enough', 'Prometheus', 'Windtalkers', \"Ocean's Twelve\", 'Live Free or Die Hard', 'The Martian', 'Black Hawk Down', 'The Road to El Dorado', 'The Lord of the Rings: The Return of the King', 'Jurassic Park III', 'Bicentennial Man', 'Cast Away', 'The Three Musketeers', 'The Holiday', 'The Hunger Games', 'Batman Returns', 'The Haunting', 'Independence Day', 'Hairspray', 'Hotel for Dogs', 'Hollywood Homicide', 'Unbreakable', 'Shrek 2', 'xXx', 'War Horse', 'The Dilemma', 'Bad Company', 'The Twilight Saga: Eclipse', 'Ted 2', 'Step Brothers', 'Death Race', 'The Green Mile', 'The Bourne Identity', 'Eat Pray Love', 'The Tale of Despereaux', 'Under Siege 2: Dark Territory', 'Planet 51', 'The Mortal Instruments: City of Bones', 'Dark Water', 'The Spirit', 'Leatherheads', 'Did You Hear About the Morgans?', 'The Fan', 'Turbulence', 'Seven Pounds', 'You, Me and Dupree', 'Flags of Our Fathers', 'Central Intelligence', 'Inside Man', 'Shanghai Knights', 'The Story of Us', 'Basic', 'The International', 'Zoolander 2', 'Earth', 'Blade', 'Savages', 'Across the Universe', 'Babylon A.D.', 'A Time to Kill', 'The Conjuring 2', 'Made of Honor', 'The Doors', 'Showgirls', 'Big Miracle', \"Cirque du Freak: The Vampire's Assistant\", 'Pandorum', 'Red Cliff', 'The Ninth Gate', 'Riddick', 'Horrible Bosses', 'Neighbors 2: Sorority Rising', 'Old Dogs', 'House of Wax', 'Big Mommas: Like Father, Like Son', 'Source Code', 'The Good German', 'The Notebook', 'The New World', 'The Merchant of Venice', 'Welcome Home Roscoe Jenkins', 'Lake Placid', 'In Good Company', 'The Fifth Estate', 'The Untouchables', 'Finding Neverland', 'Punch-Drunk Love', 'The Road', 'Waterloo', 'Someone Like You...', 'The Hundred-Foot Journey', 'Jay and Silent Bob Strike Back', 'Dudley Do-Right', 'South Park: Bigger, Longer & Uncut', 'Close Encounters of the Third Kind', 'Are We There Yet?', 'The Last Song', 'Epic Movie', 'Scary Movie 5', 'The Weather Man', 'Three to Tango', 'A Scanner Darkly', 'By the Sea', 'The Switch', 'Just Married', 'Predator', 'The Wraith', 'Day of the Dead', 'Renaissance', 'Beastly', 'Vicky Cristina Barcelona', 'Duets', 'Hollywood Ending', \"Hachi: A Dog's Tale\", 'Krampus', 'The Remains of the Day', 'The Marine', 'One Day', 'A Mighty Heart', 'Whatever It Takes', 'Mulholland Drive', \"Sarah's Key\", 'Born on the Fourth of July', 'Jason X', 'Bobby', 'Head Over Heels', 'Brokeback Mountain', '10 Things I Hate About You', 'Ex Machina', 'Woo', 'Quarantine', 'Rachel Getting Married', 'House of Flying Daggers', 'Last Orders', 'Woman in Gold', 'Slackers', 'LOL', \"Madea's Family Reunion\", 'The Grudge', 'Friday After Next', 'Valentine', 'The Fourth Kind', 'The Corruptor', 'The Matador', 'Heartbeeps', 'Black or White', 'Cecil B. Demented', 'Swept Away', 'High Heels and Low Lifes', 'Welcome to the Rileys', 'Motherhood', 'Beat the World', 'Re-Kill', 'Two Evil Eyes', 'All Is Lost', 'Namastey London', 'That Awkward Moment', 'Kicks', 'New Nightmare', 'The Boondock Saints II: All Saints Day', 'The Secret of Kells', 'The Land Girls', 'Dear Wendy', 'Akira', 'Juno', 'House at the End of the Street', 'The Adventures of Huck Finn', 'Grease', 'National Lampoon’s Van Wilder', 'Goddess of Love', 'Julia', 'A Shine of Rainbows', 'Sunshine State', 'A Room for Romeo Brass', 'Headhunters', 'Paranormal Activity 4', 'House Party 2', 'Y Tu Mamá También', 'Green Room', 'We Have Your Husband', \"Let's Kill Ward's Wife\", 'Out of the Blue', 'Sympathy for Lady Vengeance', 'After.Life', 'Easy Money', 'Maggie', 'The Boy Next Door', 'Stake Land', 'The Helpers', 'Network', 'Gods and Monsters', 'Wicked Blood', 'March of the Penguins', 'City of God', 'Dreaming of Joseph Lees', 'Beginners', 'Paranormal Activity 2', 'Willy Wonka & the Chocolate Factory', 'Compadres', 'Pocketful of Miracles', \"Jesus' Son\", 'Antibirth', '[REC]', \"Boys Don't Cry\", 'Courageous', 'The Triplets of Belleville', 'London', 'The Greatest Movie Ever Sold', 'Bloodsport', 'Kickboxer: Vengeance', 'Hatchet', 'Wind Walkers', 'The Blue Room', 'The Lost Weekend', 'Taxi Driver', 'Obvious Child', 'The Jimmy Show', 'Hidden Away', 'L!fe Happens', 'Circumstance', 'High Noon', 'B-Girl', 'Escape from Tomorrow', 'Mercy Streets', 'Carousel of Revenge', 'Intolerance', 'American Ninja 2: The Confrontation', 'Compliance', 'The Incredibly True Adventure of Two Girls In Love', 'She Done Him Wrong', 'Middle of Nowhere', 'The Lost Skeleton of Cadavra', 'Clerks', 'Backmask']\n",
            "\n",
            "Movies recommended based on GMM clustering (cluster 7):\n",
            "['John Carter', \"Pirates of the Caribbean: Dead Man's Chest\", 'The Lone Ranger', 'Man of Steel', 'The Amazing Spider-Man', 'Battleship', 'The Good Dinosaur', 'Rush Hour 3', 'The Chronicles of Narnia: The Lion, the Witch and the Wardrobe', 'The Mummy: Tomb of the Dragon Emperor', 'Evan Almighty', 'Edge of Tomorrow', '47 Ronin', \"The Sorcerer's Apprentice\", 'Poseidon', 'Shrek the Third', 'Warcraft', 'Madagascar: Escape 2 Africa', 'G-Force', 'The Wolfman', 'Ghostbusters', 'Beowulf', 'The Last Samurai', 'Lethal Weapon 4', 'The Revenant', 'Salt', 'Dinosaur', 'Pirates of the Caribbean: The Curse of the Black Pearl', 'The 13th Warrior', 'Monsters, Inc.', 'Night at the Museum', 'San Andreas', 'Mr. & Mrs. Smith', 'Speed 2: Cruise Control', 'The Princess and the Frog', 'The Martian', 'Planet of the Apes', 'Terminator 2: Judgment Day', 'Eragon', 'Where the Wild Things Are', 'Treasure Planet', 'Sex and the City 2', 'Lara Croft: Tomb Raider', 'Cutthroat Island', \"You Don't Mess with the Zohan\", 'The Haunted Mansion', 'The Interpreter', 'The Saint', 'Rio', 'Conan the Barbarian', 'Cast Away', 'The Bourne Supremacy', \"Ocean's Eleven\", 'Tower Heist', \"Ocean's Thirteen\", 'Enemy at the Gates', 'The Rundown', 'Last Action Hero', 'Arthur Christmas', 'Click', 'The Longest Yard', 'Alvin and the Chipmunks: Chipwrecked', 'Shutter Island', 'The Book of Eli', 'The Manchurian Candidate', 'Déjà Vu', 'Battlefield Earth', 'Looney Tunes: Back in Action', 'The Lion King', 'Red Dragon', 'The Lost World: Jurassic Park', 'Exorcist: The Beginning', 'The Terminal', 'Tears of the Sun', 'The Man from U.N.C.L.E.', 'Hostage', 'Carriers', 'Unbreakable', 'Talladega Nights: The Ballad of Ricky Bobby', 'Jarhead', 'Shrek 2', 'xXx', 'The SpongeBob Movie: Sponge Out of Water', 'War Horse', 'Stardust', 'Doom', \"Hart's War\", 'Basic Instinct 2', 'Money Train', 'Ted 2', 'Agora', 'Mystery Men', 'The Finest Hours', 'What Women Want', 'Space Cowboys', 'Eyes Wide Shut', 'Fight Club', 'I, Frankenstein', 'Random Hearts', 'Clear and Present Danger', 'The Love Guru', 'Meet the Fockers', 'Marley & Me', 'This Is It', 'Man on Fire', 'Jingle All the Way', 'Hellboy', 'A Civil Action', 'The Tale of Despereaux', 'Jack Ryan: Shadow Recruit', 'Shooter', 'Reign of Fire', 'Planet 51', 'The Relic', 'Priest', 'Event Horizon', 'Meet Dave', 'Dark Water', 'Leatherheads', 'Superman', 'George of the Jungle', 'Maid in Manhattan', 'The Forbidden Kingdom', 'Paddington', 'Stuck on You', 'Blade II', 'Bullet to the Head', 'Shaft', 'Moulin Rouge!', 'Law Abiding Citizen', 'From Paris with Love', 'Yes Man', 'Central Intelligence', 'Into the Woods', 'Inside Man', 'Crazy, Stupid, Love.', 'Garfield', 'V for Vendetta', 'Unfaithful', '13 Hours: The Secret Soldiers of Benghazi', 'The Peacemaker', 'On Deadly Ground', 'The Adventures of Sharkboy and Lavagirl', 'Basic', 'The Life of David Gale', 'Your Highness', 'Fair Game', 'Zoolander 2', 'Anna Karenina', 'Panic Room', 'Three Kings', 'Rat Race', 'K-PAX', '3:10 to Yuma', 'The Thomas Crown Affair', 'Riding in Cars with Boys', 'Courage Under Fire', 'Liar Liar', 'The Princess Diaries 2: Royal Engagement', 'The Bucket List', 'Patriot Games', 'Anaconda', 'Resident Evil: Extinction', 'Blended', 'The River Wild', 'The Indian in the Cupboard', 'Across the Universe', '16 Blocks', 'Aliens in the Attic', 'Nixon', 'Deep Rising', 'Bangkok Dangerous', 'Love in the Time of Cholera', 'Finding Forrester', 'The Sweetest Thing', 'The Mechanic', '21 Jump Street', 'The Heat', 'Micmacs', \"A Knight's Tale\", 'Lucy', 'A Time to Kill', 'Cheaper by the Dozen', 'Dracula', 'Shallow Hal', 'The Final Destination', 'Unknown', 'Gothika', 'Amistad', 'Paul', 'The Doors', 'Mickey Blue Eyes', 'Extremely Loud & Incredibly Close', 'The Other Boleyn Girl', 'Colombiana', 'At First Sight', 'Showgirls', 'Get Carter', 'Amélie', 'Raise the Titanic', 'Just Visiting', 'A Thousand Words', 'The Hudsucker Proxy', 'The Crow', \"The Time Traveler's Wife\", 'Grudge Match', \"Dragon Nest: Warriors' Dawn\", 'Heartbreakers', 'Paul Blart: Mall Cop 2', 'The Thing', 'Creed', 'Burn After Reading', 'John Q', \"We're the Millers\", 'Hot Tub Time Machine', 'Snow Falling on Cedars', 'The Devil Wears Prada', 'Cape Fear', 'Trainwreck', 'Black Knight', 'Closer', 'Mirrors', 'Wimbledon', 'Bait', 'American Outlaws', 'The Young Victoria', 'Whiteout', 'Knock Off', 'Zoom', \"Smilla's Sense of Snow\", 'Femme Fatale', 'The Horseman on the Roof', 'A Few Good Men', 'The Darkest Hour', 'This Is the End', 'Alive', 'The Incredible Burt Wonderstone', 'Apocalypse Now', \"Mr. Holland's Opus\", 'Arachnophobia', 'Speed', 'The Vow', 'District 9', 'Mystic River', 'The Notebook', 'About Schmidt', 'Midnight in Paris', 'Message in a Bottle', 'Sicario', 'The Running Man', 'Mortal Kombat: Annihilation', 'Carrie', 'Mr. 3000', 'The Cave', 'The Promise', 'DOA: Dead or Alive', 'Little Nicholas', 'Animals United', 'Savva. Heart of the Warrior', 'Sausage Party', 'Serving Sara', 'Space Pirate Captain Harlock', 'Serendipity', 'Safe Haven', 'We Own the Night', 'Just My Luck', 'A Simple Wish', 'Pride and Prejudice and Zombies', 'Notes on a Scandal', 'Rendition', 'Lake Placid', 'The Right Stuff', 'The 40 Year Old Virgin', 'Open Range', 'Red Eye', 'In Good Company', 'Clockstoppers', 'Blood and Wine', 'Rain Man', 'The Fifth Estate', 'The Face of an Angel', 'Chocolat', 'Tombstone', 'Scarface', 'Undercover Brother', 'August Rush', 'Punch-Drunk Love', 'Bright Lights, Big City', 'The Box', 'The Next Best Thing', 'The Girl Next Door', 'Legend', 'Shark Night', 'The Conspirator', 'Brokedown Palace', 'The Possession', 'The Road', 'Carnage', 'The Counselor', 'Kung Fu Jungle', 'Think Like a Man Too', 'The Wiz', 'Play It to the Bone', 'Zombieland', 'Someone Like You...', 'Vanity Fair', 'Ghost', \"There's Something About Mary\", 'The Santa Clause', 'Gandhi', 'The Hundred-Foot Journey', 'I Am Sam', 'Underworld', 'Derailed', 'The Informant!', 'Our Kind of Traitor', 'Dudley Do-Right', 'Before I Go to Sleep', 'Michael Clayton', 'eXistenZ', \"Wayne's World\", 'Tammy', 'School of Rock', 'White Chicks', 'The Descendants', 'Selma', 'How Stella Got Her Groove Back', \"Bill & Ted's Bogus Journey\", 'The American', 'Selena', 'Copycat', 'Scary Movie 5', 'A Very Harold & Kumar Christmas', 'The Debt', 'The Bank Job', 'You Again', 'Daybreakers', 'Quigley Down Under', 'Endless Love', 'The Kite Runner', 'One Night with the King', '3 Ninjas Kick Back', 'Everyone Says I Love You', 'The Man', 'Connie and Carla', 'Battle of the Year', 'An American Carol', 'The Cold Light of Day', 'Princess Mononoke', 'Bon voyage', 'Equilibrium', 'The Children of Huang Shi', 'By the Sea', 'The Tempest', 'Three Kingdoms: Resurrection of the Dragon', 'Butterfly on a Wheel', 'Ramanujan', 'The Frozen Ground', 'Spirited Away', 'Leap Year', 'The Nutcracker', 'Big', 'Borat: Cultural Learnings of America for Make Benefit Glorious Nation of Kazakhstan', 'Deuce Bigalow: Male Gigolo', 'Bad Santa', 'Austin Powers: International Man of Mystery', 'Under the Tuscan Sun', 'Honey', 'Observe and Report', 'Conan the Destroyer', 'Center Stage', 'The Tailor of Panama', 'Nine 1/2 Weeks', 'The Last Station', 'Red Lights', 'My Fair Lady', 'Beerfest', 'Saw: The Final Chapter', 'McFarland, USA', 'Summer Catch', 'They', 'Superman IV: The Quest for Peace', 'Shanghai Surprise', 'Roar', 'Damnation Alley', 'Becoming Jane', 'The Verdict', 'The Master of Disguise', 'Baby Boy', 'Joe Dirt', 'Double Impact', 'Hollywood Ending', 'Good', 'Zulu', 'Slow Burn', 'Little Women', 'End of Watch', 'Love & Basketball', 'Flicka', 'The Hills Have Eyes 2', 'Tuck Everlasting', 'The November Man', 'The Hurt Locker', \"VeggieTales: The Pirates Who Don't Do Anything\", 'Idlewild', \"Barney's Great Adventure\", 'The Man with the Iron Fists', 'Black Snake Moan', 'A Mighty Heart', 'Post Grad', 'Promised Land', 'The In Crowd', 'Mulholland Drive', 'The Company', 'The Clan of the Cave Bear', \"Things to Do in Denver When You're Dead\", 'Silent Trigger', 'Automata', 'Shinjuku Incident', 'Groundhog Day', 'Romeo + Juliet', \"Sarah's Key\", 'Manderlay', 'Born on the Fourth of July', 'Superstar', 'Thinner', 'New York, New York', 'Crooklyn', 'Jason X', 'Head Over Heels', 'Soul Survivors', 'Margaret', 'Brokeback Mountain', 'Quills', 'Downfall', 'The Sea Inside', 'Under the Skin', 'Good Morning, Vietnam', '10 Things I Hate About You', 'Two Can Play That Game', 'Crazy/Beautiful', 'The Astronaut Farmer', \"Paris, je t'aime\", 'Excessive Force', 'Cat People', 'The Prisoner of Zenda', 'Oscar and Lucinda', 'Machete', 'Harold & Kumar Escape from Guantanamo Bay', 'How High', 'Top Five', 'Prophecy', 'Philomena', 'Nebraska', 'Rachel Getting Married', 'House of Flying Daggers', 'The Host', 'The Pursuit of D.B. Cooper', 'The Dangerous Lives of Altar Boys', 'Married Life', 'The Life Before Her Eyes', 'Fateless', 'Space Battleship Yamato', '5 Days of War', 'The Cry of the Owl', 'A Tale of Three Cities', 'High School Musical 3: Senior Year', 'My Cousin Vinny', 'Dead Man Walking', 'Out Cold', 'Woman in Gold', 'Army of Darkness', 'Slackers', 'O', 'Oliver!', 'Mad Max Beyond Thunderdome', 'Friday After Next', 'The Last Dragon', 'Valentine', 'The Fourth Kind', 'A Prairie Home Companion', 'Sugar Hill', 'The Second Best Exotic Marigold Hotel', 'The Corruptor', 'Reno 911!: Miami', 'Love Jones', 'Drop Dead Gorgeous', 'Sleepover', 'Body Double', 'Dirty Pretty Things', 'Seeking a Friend for the End of the World', \"Teacher's Pet\", 'Deuces Wild', 'Heartbeeps', 'A Better Life', 'Krrish', 'Owning Mahowny', 'My Blueberry Nights', 'Swept Away', 'The Brown Bunny', 'The Swindle', 'Rosewater', 'Coriolanus', \"World's Greatest Dad\", 'Blood Done Sign My Name', 'The Good Guy', 'The Reef', 'Fifty Dead Men Walking', 'Adam Resurrected', \"The Devil's Tomb\", 'The Lost City', 'You Only Live Twice', \"It's a Mad, Mad, Mad, Mad World\", 'Volver', 'Thunderball', 'The Contender', 'Boiler Room', 'Trust the Man', 'Opal Dream', 'Ultramarines: A Warhammer 40,000 Movie', 'Glitter', 'Silmido', 'Yeh Jawaani Hai Deewani', 'Repo! The Genetic Opera', 'The Sound of Music', 'Little Miss Sunshine', '28 Days Later', 'That Awkward Moment', 'Much Ado About Nothing', 'The City of Your Final Destination', 'The Inkwell', 'Shadow of the Vampire', 'Prom', 'Made in Dagenham', 'The Secret of Kells', 'The Death and Life of Bobby Z', 'Soul Food', 'Far from Men', 'Hostel: Part II', 'An Education', 'Persepolis', 'The Godfather', 'The Piano', \"Logan's Run\", 'Alien Zone', 'A Serious Man', 'Bride & Prejudice', 'Veer-Zaara', 'The Mighty Macs', 'Mother and Child', 'Twixt', 'Alpha and Omega: The Legend of the Saw Tooth Cave', 'Layer Cake', 'A Home at the End of the World', 'Tracker', 'Good bye, Lenin!', 'Platoon', 'The Brothers', 'National Lampoon’s Van Wilder', 'Escape from New York', 'Pollock', 'City Island', 'Miss March', 'Wish I Was Here', 'Shattered Glass', 'The First Great Train Robbery', 'The 5th Quarter', 'Julia', 'The Spanish Apartment', 'The Train', 'Shine', 'Harvard Man', 'Headhunters', 'Saint Ralph', 'Dum Maaro Dum', 'Paranormal Activity 4', 'Clerks II', 'The Apostle', 'Mommie Dearest', 'Y Tu Mamá También', 'Lone Wolf McQuade', 'The Perfect Match', 'The Forsaken', 'Force 10 from Navarone', 'The Sweet Hereafter', '90 Minutes in Heaven', 'Desert Blue', 'Redacted', 'Rudderless', 'We Have Your Husband', 'A Cock and Bull Story', 'Take Shelter', \"Let's Kill Ward's Wife\", 'The Texas Chainsaw Massacre 2', 'Pat Garrett & Billy the Kid', 'Only God Forgives', 'Camping Sauvage', 'The Names of Love', 'Savage Grace', 'The Blue Lagoon', 'Four Weddings and a Funeral', 'State Fair', 'Donnie Darko', \"Mozart's Sister\", 'Mean Machine', 'After.Life', 'Fugly', 'Falcon Rising', 'High School Musical', 'The Greatest Show on Earth', \"Monster's Ball\", 'The Boy Next Door', 'What the #$*! Do We (K)now!?', '3 Strikes', 'The Cooler', 'Secretary', 'Among Giants', 'The Helpers', 'Network', 'Gone with the Wind', 'The House of Sand', 'The Pirate', 'Train', 'Sharknado', 'Time to Choose', 'In the Name of the King III', 'Wicked Blood', 'Dreaming of Joseph Lees', 'The Class', \"Rosemary's Baby\", 'Cat on a Hot Tin Roof', 'Air Bud', 'Torn Curtain', \"Dave Chappelle's Block Party\", 'Teen Wolf Too', 'Kama Sutra - A Tale of Love', 'Thirteen Conversations About One Thing', 'The Deported', 'Open Road', 'Four Single Fathers', 'Pocketful of Miracles', 'Unnatural', 'Lage Raho Munna Bhai', 'The Black Stallion', 'Friday the 13th: The Final Chapter', 'Timecrimes', \"2016: Obama's America\", 'That Thing You Do!', 'Before Sunrise', 'Evil Words', 'Eye of the Dolphin', 'The Other End of the Line', 'Sleep Dealer', 'Bathing Beauty', 'Jack Brooks: Monster Slayer', '[REC]', 'Courageous', \"Alexander's Ragtime Band\", 'Six-String Samurai', 'Stonewall', 'Grave Encounters', 'Northfork', 'Buried', 'The Square', 'One to Another', 'Vaalu', 'The Greatest Movie Ever Sold', 'Independence Daysaster', 'May', 'Conquest of the Planet of the Apes', 'Out of the Dark', 'Mississippi Mermaid', 'I Love Your Work', 'Kickboxer: Vengeance', 'Snow Angels', 'Road Hard', 'Amigo', 'Me You and Five Bucks', 'Fetching Cody', 'Closer to the Moon', '#Horror', 'The Blue Room', 'The Celebration', 'Def-Con 4', \"Neal 'n' Nikki\", 'The Lost Weekend', 'Filly Brown', 'Niagara', 'Sex, Lies, and Videotape', 'Home Run', 'The Second Mother', 'Certifiably Jonathan', 'The Wicked Within', 'Faith Like Potatoes', 'Casablanca', 'Silent Running', 'The Sleepwalker', 'Taxi Driver', 'The Howling', 'An Inconvenient Truth', 'Martha Marcy May Marlene', 'Slam', 'Brigham City', 'Ajami', 'Speedway Junky', 'The Jimmy Show', 'Frat Party', 'Proud', 'Hidden Away', 'The Pet', \"Pandora's Box\", 'Kill List', 'The Conformist', 'B-Girl', 'Escape from Tomorrow', 'Carousel of Revenge', \"The Maid's Room\", 'To Save A Life', 'The Slaughter Rule', 'Straight Out of Brooklyn', '42nd Street', 'The Beyond', 'What Happens in Vegas', 'Intolerance', 'American Ninja 2: The Confrontation', 'Rotor DR1', \"When the Cat's Away\", 'The Big Swap', 'Ayurveda: Art of Being', 'Royal Kill', 'Midnight Cabaret', 'Graduation Day', 'Compliance', 'The Frozen', 'Mad Max', 'Three', 'Malevolence', 'Ordet', 'The Trials Of Darryl Hunt', 'Samantha: An American Girl Holiday', \"Sweet Sweetback's Baadasssss Song\", 'Once', 'The Woman Chaser', \"Your Sister's Sister\", 'The Married Woman', 'Facing the Giants', 'The Gallows', 'The Lost Skeleton of Cadavra', 'The FP', 'Mutual Appreciation', 'Flywheel', 'Backmask', 'Pink Flamingos', 'On The Downlow', 'Sanctuary: Quite a Conundrum', 'Bang', 'Cavite', 'El Mariachi']\n"
          ]
        }
      ],
      "source": [
        "# Assuming \"Avatar\" is in the dataset and df contains the cluster labels\n",
        "\n",
        "prev_watch = \"Avatar\"\n",
        "\n",
        "# Find the index of the movie \"Avatar\"\n",
        "avatar_index = df[df['title'] == prev_watch].index[0]\n",
        "\n",
        "# Find the cluster index for \"Avatar\" using K-Means and GMM\n",
        "cluster_kmeans = df.loc[avatar_index, 'cluster_kmeans']\n",
        "cluster_gmm = df.loc[avatar_index, 'cluster_gmm']\n",
        "\n",
        "# Get movie suggestions based on K-Means cluster\n",
        "recommended_kmeans = df[df['cluster_kmeans'] == cluster_kmeans]['title'].tolist()\n",
        "\n",
        "# Get movie suggestions based on GMM cluster\n",
        "recommended_gmm = df[df['cluster_gmm'] == cluster_gmm]['title'].tolist()\n",
        "\n",
        "# Print out recommendations for K-Means and GMM\n",
        "print(f\"Movies recommended based on K-Means clustering (cluster {cluster_kmeans}):\")\n",
        "print([movie for movie in recommended_kmeans if movie != prev_watch])\n",
        "\n",
        "print(f\"\\nMovies recommended based on GMM clustering (cluster {cluster_gmm}):\")\n",
        "print([movie for movie in recommended_gmm if movie != prev_watch])\n"
      ]
    },
    {
      "cell_type": "markdown",
      "id": "4ecec1ff",
      "metadata": {
        "id": "4ecec1ff"
      },
      "source": [
        "**Q6.2** Are any of the two recommender systems any good? Would you use them if your real dentist asks for a movie suggestion?"
      ]
    },
    {
      "cell_type": "markdown",
      "id": "aae96b8a",
      "metadata": {
        "id": "aae96b8a"
      },
      "source": [
        "K-Means Recommendations (Cluster 10):\n",
        "Suggestions include movies like \"Skyfall,\" \"The Polar Express,\" and \"Jurassic Park III.\" While they share some action and adventure themes, the cluster is too diverse, including family-friendly movies like Shrek 2 and comedies, which may not align with Avatar's tone.\n",
        "\n",
        "GMM Recommendations (Cluster 7):\n",
        "Suggestions include \"John Carter,\" \"Pirates of the Caribbean,\" and \"Man of Steel.\" These are much more consistent with Avatar's action, adventure, and sci-fi elements, making them a better fit.\n",
        "\n",
        "Conclusion:\n",
        "The GMM system provides more relevant recommendations based on Avatar's genre, making it the better choice for a movie suggestion. The K-Means system is too broad and may offer less targeted, more random suggestions."
      ]
    },
    {
      "cell_type": "markdown",
      "id": "92b84753",
      "metadata": {
        "id": "92b84753"
      },
      "source": [
        "**Q6.3** How would you try making the recommender systems better?"
      ]
    },
    {
      "cell_type": "markdown",
      "id": "40d3f6dd",
      "metadata": {
        "id": "40d3f6dd"
      },
      "source": [
        "- Refine Clustering: Include more detailed features (e.g.actors, directors) to improve cluster relevance and movie matching.\n",
        "\n",
        "- Hybrid Approach: Combine content-based and collaborative filtering methods for a more balanced and accurate recommendation system.\n",
        "\n",
        "- Deep Learning: Use neural networks to capture complex relationships between users and movies."
      ]
    },
    {
      "cell_type": "markdown",
      "id": "7df2d34a",
      "metadata": {
        "id": "7df2d34a"
      },
      "source": [
        "**Q6.4** Say your dentist likes the movies you suggested and has watched a few more since you met him last. How would you incorporate this fact (recommendation based on multiple movies) into your suggestions?"
      ]
    },
    {
      "cell_type": "markdown",
      "id": "b3549de4",
      "metadata": {
        "id": "b3549de4"
      },
      "source": [
        "1. Aggregate Features: Calculate the average features of the movies your dentist has watched to identify broader preferences.\n",
        "2. Cluster Similar Movies: Recommend films within the same cluster as the movies your dentist has watched recently.\n",
        "3. Content-Based Filtering: Track keywords or themes from the watched movies to suggest similar ones.\n",
        "4. Collaborative Filtering: Use behavior from similar users to recommend movies they liked."
      ]
    },
    {
      "cell_type": "markdown",
      "id": "f20b74ce",
      "metadata": {
        "id": "f20b74ce"
      },
      "source": [
        "**Q6.5** An alternative method for recommendations is to use your encoded movie-feature vectors (in this case your overview+PCA vector) in order to find out what movie may be most similar to the current one. In the case of K-Means and GMMs, \"similarity\" referred to Euclidean distance. However, in this exercise, we will use *cosine similarity*, which is another very common similarity measure, and is related to the angle between two vectors. It is defined as:\n",
        "\n",
        "$$sim(v_1, v_2)=\\frac{v_1\\cdot v_2}{||v_1||\\cdot||v_2||}$$\n",
        "\n",
        "Where $v_1$ and $v_2$ are vectors and the operator $||\\cdot||$ is the norm of the vector. The function ranges from $[-1,1]$ (where 1 means that the vectors point in the same direction).\n",
        "\n",
        "Define an appropriate function `cosine_sim`. Add a column called `cos_sim_to_avatar` in the df and print out the head of the df, sorted by the similarity. What movies would you recommend now? Is this better than the clustering methods?"
      ]
    },
    {
      "cell_type": "code",
      "execution_count": null,
      "id": "cedf60f3",
      "metadata": {
        "id": "cedf60f3",
        "colab": {
          "base_uri": "https://localhost:8080/",
          "height": 206
        },
        "outputId": "1a805d22-e46c-4cf6-fa70-376904e1b39c"
      },
      "outputs": [
        {
          "output_type": "execute_result",
          "data": {
            "text/plain": [
              "              title  cos_sim_to_avatar\n",
              "0            Avatar           1.000000\n",
              "1272       Impostor           0.756417\n",
              "972        The Host           0.753082\n",
              "151         Beowulf           0.742620\n",
              "461   Lost in Space           0.740351"
            ],
            "text/html": [
              "\n",
              "  <div id=\"df-c1ddbbcb-cf51-4a01-a414-e26ee8ed8ec9\" class=\"colab-df-container\">\n",
              "    <div>\n",
              "<style scoped>\n",
              "    .dataframe tbody tr th:only-of-type {\n",
              "        vertical-align: middle;\n",
              "    }\n",
              "\n",
              "    .dataframe tbody tr th {\n",
              "        vertical-align: top;\n",
              "    }\n",
              "\n",
              "    .dataframe thead th {\n",
              "        text-align: right;\n",
              "    }\n",
              "</style>\n",
              "<table border=\"1\" class=\"dataframe\">\n",
              "  <thead>\n",
              "    <tr style=\"text-align: right;\">\n",
              "      <th></th>\n",
              "      <th>title</th>\n",
              "      <th>cos_sim_to_avatar</th>\n",
              "    </tr>\n",
              "  </thead>\n",
              "  <tbody>\n",
              "    <tr>\n",
              "      <th>0</th>\n",
              "      <td>Avatar</td>\n",
              "      <td>1.000000</td>\n",
              "    </tr>\n",
              "    <tr>\n",
              "      <th>1272</th>\n",
              "      <td>Impostor</td>\n",
              "      <td>0.756417</td>\n",
              "    </tr>\n",
              "    <tr>\n",
              "      <th>972</th>\n",
              "      <td>The Host</td>\n",
              "      <td>0.753082</td>\n",
              "    </tr>\n",
              "    <tr>\n",
              "      <th>151</th>\n",
              "      <td>Beowulf</td>\n",
              "      <td>0.742620</td>\n",
              "    </tr>\n",
              "    <tr>\n",
              "      <th>461</th>\n",
              "      <td>Lost in Space</td>\n",
              "      <td>0.740351</td>\n",
              "    </tr>\n",
              "  </tbody>\n",
              "</table>\n",
              "</div>\n",
              "    <div class=\"colab-df-buttons\">\n",
              "\n",
              "  <div class=\"colab-df-container\">\n",
              "    <button class=\"colab-df-convert\" onclick=\"convertToInteractive('df-c1ddbbcb-cf51-4a01-a414-e26ee8ed8ec9')\"\n",
              "            title=\"Convert this dataframe to an interactive table.\"\n",
              "            style=\"display:none;\">\n",
              "\n",
              "  <svg xmlns=\"http://www.w3.org/2000/svg\" height=\"24px\" viewBox=\"0 -960 960 960\">\n",
              "    <path d=\"M120-120v-720h720v720H120Zm60-500h600v-160H180v160Zm220 220h160v-160H400v160Zm0 220h160v-160H400v160ZM180-400h160v-160H180v160Zm440 0h160v-160H620v160ZM180-180h160v-160H180v160Zm440 0h160v-160H620v160Z\"/>\n",
              "  </svg>\n",
              "    </button>\n",
              "\n",
              "  <style>\n",
              "    .colab-df-container {\n",
              "      display:flex;\n",
              "      gap: 12px;\n",
              "    }\n",
              "\n",
              "    .colab-df-convert {\n",
              "      background-color: #E8F0FE;\n",
              "      border: none;\n",
              "      border-radius: 50%;\n",
              "      cursor: pointer;\n",
              "      display: none;\n",
              "      fill: #1967D2;\n",
              "      height: 32px;\n",
              "      padding: 0 0 0 0;\n",
              "      width: 32px;\n",
              "    }\n",
              "\n",
              "    .colab-df-convert:hover {\n",
              "      background-color: #E2EBFA;\n",
              "      box-shadow: 0px 1px 2px rgba(60, 64, 67, 0.3), 0px 1px 3px 1px rgba(60, 64, 67, 0.15);\n",
              "      fill: #174EA6;\n",
              "    }\n",
              "\n",
              "    .colab-df-buttons div {\n",
              "      margin-bottom: 4px;\n",
              "    }\n",
              "\n",
              "    [theme=dark] .colab-df-convert {\n",
              "      background-color: #3B4455;\n",
              "      fill: #D2E3FC;\n",
              "    }\n",
              "\n",
              "    [theme=dark] .colab-df-convert:hover {\n",
              "      background-color: #434B5C;\n",
              "      box-shadow: 0px 1px 3px 1px rgba(0, 0, 0, 0.15);\n",
              "      filter: drop-shadow(0px 1px 2px rgba(0, 0, 0, 0.3));\n",
              "      fill: #FFFFFF;\n",
              "    }\n",
              "  </style>\n",
              "\n",
              "    <script>\n",
              "      const buttonEl =\n",
              "        document.querySelector('#df-c1ddbbcb-cf51-4a01-a414-e26ee8ed8ec9 button.colab-df-convert');\n",
              "      buttonEl.style.display =\n",
              "        google.colab.kernel.accessAllowed ? 'block' : 'none';\n",
              "\n",
              "      async function convertToInteractive(key) {\n",
              "        const element = document.querySelector('#df-c1ddbbcb-cf51-4a01-a414-e26ee8ed8ec9');\n",
              "        const dataTable =\n",
              "          await google.colab.kernel.invokeFunction('convertToInteractive',\n",
              "                                                    [key], {});\n",
              "        if (!dataTable) return;\n",
              "\n",
              "        const docLinkHtml = 'Like what you see? Visit the ' +\n",
              "          '<a target=\"_blank\" href=https://colab.research.google.com/notebooks/data_table.ipynb>data table notebook</a>'\n",
              "          + ' to learn more about interactive tables.';\n",
              "        element.innerHTML = '';\n",
              "        dataTable['output_type'] = 'display_data';\n",
              "        await google.colab.output.renderOutput(dataTable, element);\n",
              "        const docLink = document.createElement('div');\n",
              "        docLink.innerHTML = docLinkHtml;\n",
              "        element.appendChild(docLink);\n",
              "      }\n",
              "    </script>\n",
              "  </div>\n",
              "\n",
              "\n",
              "<div id=\"df-26cabcfc-c156-455c-9778-7878c221c158\">\n",
              "  <button class=\"colab-df-quickchart\" onclick=\"quickchart('df-26cabcfc-c156-455c-9778-7878c221c158')\"\n",
              "            title=\"Suggest charts\"\n",
              "            style=\"display:none;\">\n",
              "\n",
              "<svg xmlns=\"http://www.w3.org/2000/svg\" height=\"24px\"viewBox=\"0 0 24 24\"\n",
              "     width=\"24px\">\n",
              "    <g>\n",
              "        <path d=\"M19 3H5c-1.1 0-2 .9-2 2v14c0 1.1.9 2 2 2h14c1.1 0 2-.9 2-2V5c0-1.1-.9-2-2-2zM9 17H7v-7h2v7zm4 0h-2V7h2v10zm4 0h-2v-4h2v4z\"/>\n",
              "    </g>\n",
              "</svg>\n",
              "  </button>\n",
              "\n",
              "<style>\n",
              "  .colab-df-quickchart {\n",
              "      --bg-color: #E8F0FE;\n",
              "      --fill-color: #1967D2;\n",
              "      --hover-bg-color: #E2EBFA;\n",
              "      --hover-fill-color: #174EA6;\n",
              "      --disabled-fill-color: #AAA;\n",
              "      --disabled-bg-color: #DDD;\n",
              "  }\n",
              "\n",
              "  [theme=dark] .colab-df-quickchart {\n",
              "      --bg-color: #3B4455;\n",
              "      --fill-color: #D2E3FC;\n",
              "      --hover-bg-color: #434B5C;\n",
              "      --hover-fill-color: #FFFFFF;\n",
              "      --disabled-bg-color: #3B4455;\n",
              "      --disabled-fill-color: #666;\n",
              "  }\n",
              "\n",
              "  .colab-df-quickchart {\n",
              "    background-color: var(--bg-color);\n",
              "    border: none;\n",
              "    border-radius: 50%;\n",
              "    cursor: pointer;\n",
              "    display: none;\n",
              "    fill: var(--fill-color);\n",
              "    height: 32px;\n",
              "    padding: 0;\n",
              "    width: 32px;\n",
              "  }\n",
              "\n",
              "  .colab-df-quickchart:hover {\n",
              "    background-color: var(--hover-bg-color);\n",
              "    box-shadow: 0 1px 2px rgba(60, 64, 67, 0.3), 0 1px 3px 1px rgba(60, 64, 67, 0.15);\n",
              "    fill: var(--button-hover-fill-color);\n",
              "  }\n",
              "\n",
              "  .colab-df-quickchart-complete:disabled,\n",
              "  .colab-df-quickchart-complete:disabled:hover {\n",
              "    background-color: var(--disabled-bg-color);\n",
              "    fill: var(--disabled-fill-color);\n",
              "    box-shadow: none;\n",
              "  }\n",
              "\n",
              "  .colab-df-spinner {\n",
              "    border: 2px solid var(--fill-color);\n",
              "    border-color: transparent;\n",
              "    border-bottom-color: var(--fill-color);\n",
              "    animation:\n",
              "      spin 1s steps(1) infinite;\n",
              "  }\n",
              "\n",
              "  @keyframes spin {\n",
              "    0% {\n",
              "      border-color: transparent;\n",
              "      border-bottom-color: var(--fill-color);\n",
              "      border-left-color: var(--fill-color);\n",
              "    }\n",
              "    20% {\n",
              "      border-color: transparent;\n",
              "      border-left-color: var(--fill-color);\n",
              "      border-top-color: var(--fill-color);\n",
              "    }\n",
              "    30% {\n",
              "      border-color: transparent;\n",
              "      border-left-color: var(--fill-color);\n",
              "      border-top-color: var(--fill-color);\n",
              "      border-right-color: var(--fill-color);\n",
              "    }\n",
              "    40% {\n",
              "      border-color: transparent;\n",
              "      border-right-color: var(--fill-color);\n",
              "      border-top-color: var(--fill-color);\n",
              "    }\n",
              "    60% {\n",
              "      border-color: transparent;\n",
              "      border-right-color: var(--fill-color);\n",
              "    }\n",
              "    80% {\n",
              "      border-color: transparent;\n",
              "      border-right-color: var(--fill-color);\n",
              "      border-bottom-color: var(--fill-color);\n",
              "    }\n",
              "    90% {\n",
              "      border-color: transparent;\n",
              "      border-bottom-color: var(--fill-color);\n",
              "    }\n",
              "  }\n",
              "</style>\n",
              "\n",
              "  <script>\n",
              "    async function quickchart(key) {\n",
              "      const quickchartButtonEl =\n",
              "        document.querySelector('#' + key + ' button');\n",
              "      quickchartButtonEl.disabled = true;  // To prevent multiple clicks.\n",
              "      quickchartButtonEl.classList.add('colab-df-spinner');\n",
              "      try {\n",
              "        const charts = await google.colab.kernel.invokeFunction(\n",
              "            'suggestCharts', [key], {});\n",
              "      } catch (error) {\n",
              "        console.error('Error during call to suggestCharts:', error);\n",
              "      }\n",
              "      quickchartButtonEl.classList.remove('colab-df-spinner');\n",
              "      quickchartButtonEl.classList.add('colab-df-quickchart-complete');\n",
              "    }\n",
              "    (() => {\n",
              "      let quickchartButtonEl =\n",
              "        document.querySelector('#df-26cabcfc-c156-455c-9778-7878c221c158 button');\n",
              "      quickchartButtonEl.style.display =\n",
              "        google.colab.kernel.accessAllowed ? 'block' : 'none';\n",
              "    })();\n",
              "  </script>\n",
              "</div>\n",
              "\n",
              "    </div>\n",
              "  </div>\n"
            ],
            "application/vnd.google.colaboratory.intrinsic+json": {
              "type": "dataframe",
              "summary": "{\n  \"name\": \"df[['title', 'cos_sim_to_avatar']]\",\n  \"rows\": 5,\n  \"fields\": [\n    {\n      \"column\": \"title\",\n      \"properties\": {\n        \"dtype\": \"string\",\n        \"num_unique_values\": 5,\n        \"samples\": [\n          \"Impostor\",\n          \"Lost in Space\",\n          \"The Host\"\n        ],\n        \"semantic_type\": \"\",\n        \"description\": \"\"\n      }\n    },\n    {\n      \"column\": \"cos_sim_to_avatar\",\n      \"properties\": {\n        \"dtype\": \"number\",\n        \"std\": 0.11284934704352977,\n        \"min\": 0.740351190952274,\n        \"max\": 1.0000000000000002,\n        \"num_unique_values\": 5,\n        \"samples\": [\n          0.756417497437216,\n          0.740351190952274,\n          0.7530815197405482\n        ],\n        \"semantic_type\": \"\",\n        \"description\": \"\"\n      }\n    }\n  ]\n}"
            }
          },
          "metadata": {},
          "execution_count": 52
        }
      ],
      "source": [
        "from sklearn.metrics.pairwise import cosine_similarity\n",
        "from sklearn.feature_extraction.text import TfidfVectorizer\n",
        "from sklearn.decomposition import PCA\n",
        "\n",
        "# If the PCA vectors aren't added yet:\n",
        "tfidf_vectorizer = TfidfVectorizer(stop_words='english')\n",
        "tfidf_matrix = tfidf_vectorizer.fit_transform(df['overview'])\n",
        "pca = PCA(n_components=50)  # You can adjust the number of components\n",
        "pca_matrix = pca.fit_transform(tfidf_matrix.toarray())\n",
        "df['pca_vector'] = list(pca_matrix)\n",
        "\n",
        "# Define cosine similarity function\n",
        "def cosine_sim(v1, v2):\n",
        "    return cosine_similarity([v1], [v2])[0][0]\n",
        "\n",
        "# Get overview_pca encoding of previously watched film (\"Avatar\" in this case)\n",
        "prev_watch_enc = df[df['title'] == 'Avatar']['pca_vector'].values[0]\n",
        "\n",
        "# Set up place to store similarities\n",
        "sims = []\n",
        "\n",
        "# Loop through each row in the dataframe and compute cosine similarity\n",
        "for i, row in df.iterrows():\n",
        "    sims.append(cosine_sim(row['pca_vector'], prev_watch_enc))\n",
        "\n",
        "# Add the cosine similarities to the dataframe\n",
        "df[\"cos_sim_to_avatar\"] = sims\n",
        "\n",
        "# Sort the dataframe by cosine similarity (highest similarity first)\n",
        "df = df.sort_values(by=\"cos_sim_to_avatar\", ascending=False)\n",
        "\n",
        "# Print the dataframe to verify\n",
        "df[['title', 'cos_sim_to_avatar']].head()"
      ]
    },
    {
      "cell_type": "markdown",
      "id": "40391e82",
      "metadata": {
        "id": "40391e82"
      },
      "source": [
        "I would recommen Impostor, The Host, Beowulf and Lost in Space, as they have the highest cosine similarity.  It is a more precise choice, if the goal is to recommend more similar movies to the initial."
      ]
    },
    {
      "cell_type": "markdown",
      "id": "a7b1e343",
      "metadata": {
        "id": "a7b1e343"
      },
      "source": [
        "# Q7 Unsupervised Learning as a Tool\n",
        "\n",
        "At the end of this brief forey into natural language processing, we will end with an interesting task: can a machine predict the genre of a movie based purely on the first 10 words of its overview?\n",
        "\n",
        "First, the following cell shuffles the dataset and splits it into a training and test set. The random seed and random state ensure that the train and test samples are the same for you all the time, and *probably* your classmates too. You can verify this by printing out the dataframes and checking it for yourself."
      ]
    },
    {
      "cell_type": "code",
      "execution_count": null,
      "id": "f5b1bde1",
      "metadata": {
        "id": "f5b1bde1",
        "colab": {
          "base_uri": "https://localhost:8080/"
        },
        "outputId": "69bef31c-44cd-4f09-8300-437be9354c3d"
      },
      "outputs": [
        {
          "output_type": "stream",
          "name": "stdout",
          "text": [
            "3765 942\n"
          ]
        }
      ],
      "source": [
        "np.random.seed(0)\n",
        "n_train = int(0.8*len(df))\n",
        "df_shuffle = df.sample(frac=1, random_state=42).reset_index(drop=True)\n",
        "df_train = df_shuffle[:n_train].reset_index(drop=True)\n",
        "df_test = df_shuffle[n_train:].reset_index(drop=True)\n",
        "print(len(df_train), len(df_test))"
      ]
    },
    {
      "cell_type": "markdown",
      "id": "92f9d534",
      "metadata": {
        "id": "92f9d534"
      },
      "source": [
        "## Train, test, evaluate\n",
        "\n",
        "Using a supervised learning method of your choice, try predicting the genre of a movie from the overview. The way you preprocess your data is up to you, and you can take inspiration from the above exercises (e.g. PCA on the one-hot encodings as input, one-hot label encodings as output). There are a number of hyperparameters you can choose depending on your selected method (number of words in your overview, number of dimensions, number of clusters, hyperparameters of your supervised model...), thus, make sure to perform hyperparameter optimization in some way (grid-search, fine-tuning, etc). Once you are happy with how your model is performing, **print out the train_score (accuracy$\\in[0,1]$), test_score (accuracy$\\in[0,1]$), mean training time (in seconds), and mean inference time (in seconds) of your model**.\n",
        "\n",
        "If you are already excited about neural networks, you may also choose to use that as your supervised method. The easiest way to do it is with sklearn's `MLPClassifier` module. The main hyperparameter you would need to tune is the architecture of your model -- how many hidden layers, and how large is each one. For this task, in order to get best performance, you do not necessarily need an MLP (multi-layer perceptron) but feel free to experiment.\n",
        "\n",
        "*Hint: the `train_and_eval` function from the last assignment should be of great help here*"
      ]
    },
    {
      "cell_type": "code",
      "source": [
        "print(df_train.columns)\n",
        "print(df_test.columns)"
      ],
      "metadata": {
        "colab": {
          "base_uri": "https://localhost:8080/"
        },
        "id": "x733bQlOrpjQ",
        "outputId": "eba11265-aad3-4195-f6f4-ac3c21ea6a06"
      },
      "id": "x733bQlOrpjQ",
      "execution_count": null,
      "outputs": [
        {
          "output_type": "stream",
          "name": "stdout",
          "text": [
            "Index(['title', 'overview', 'genres', 'proc_genres', 'one_hot_genres',\n",
            "       'proc_overview', 'overview_len', 'one_hot_overview', 'overview_pca',\n",
            "       'cluster_kmeans', 'cluster_gmm', 'pca_vector', 'cos_sim_to_avatar',\n",
            "       'overview_10_words'],\n",
            "      dtype='object')\n",
            "Index(['title', 'overview', 'genres', 'proc_genres', 'one_hot_genres',\n",
            "       'proc_overview', 'overview_len', 'one_hot_overview', 'overview_pca',\n",
            "       'cluster_kmeans', 'cluster_gmm', 'pca_vector', 'cos_sim_to_avatar',\n",
            "       'overview_10_words'],\n",
            "      dtype='object')\n"
          ]
        }
      ]
    },
    {
      "cell_type": "code",
      "execution_count": null,
      "id": "e9ac379d",
      "metadata": {
        "id": "e9ac379d",
        "colab": {
          "base_uri": "https://localhost:8080/"
        },
        "outputId": "ab5914b3-02e6-4681-bdf4-bf5426580627"
      },
      "outputs": [
        {
          "output_type": "stream",
          "name": "stdout",
          "text": [
            "Fitting 5 folds for each of 6 candidates, totalling 30 fits\n"
          ]
        },
        {
          "output_type": "stream",
          "name": "stderr",
          "text": [
            "<ipython-input-69-a11beb63ee35>:24: SettingWithCopyWarning: \n",
            "A value is trying to be set on a copy of a slice from a DataFrame.\n",
            "Try using .loc[row_indexer,col_indexer] = value instead\n",
            "\n",
            "See the caveats in the documentation: https://pandas.pydata.org/pandas-docs/stable/user_guide/indexing.html#returning-a-view-versus-a-copy\n",
            "  df['overview_first_10_words'] = df['overview'].apply(lambda x: ' '.join(x.split()[:10]))\n",
            "/usr/local/lib/python3.11/dist-packages/sklearn/model_selection/_split.py:805: UserWarning: The least populated class in y has only 2 members, which is less than n_splits=5.\n",
            "  warnings.warn(\n",
            "/usr/local/lib/python3.11/dist-packages/sklearn/linear_model/_logistic.py:1256: FutureWarning: 'multi_class' was deprecated in version 1.5 and will be removed in 1.7. Use OneVsRestClassifier(LogisticRegression(..)) instead. Leave it to its default value to avoid this warning.\n",
            "  warnings.warn(\n"
          ]
        },
        {
          "output_type": "stream",
          "name": "stdout",
          "text": [
            "Train accuracy: 0.4664886515353805\n",
            "Test accuracy: 0.31696905016008536\n",
            "Mean training time (in seconds): 12.940785646438599\n",
            "Mean inference time (in seconds): 0.021170854568481445\n",
            "Test accuracy (via accuracy_score): 0.31696905016008536\n"
          ]
        }
      ],
      "source": [
        "#LogicalRegression\n",
        "import pandas as pd\n",
        "import numpy as np\n",
        "from sklearn.model_selection import train_test_split\n",
        "from sklearn.feature_extraction.text import TfidfVectorizer\n",
        "from sklearn.preprocessing import OneHotEncoder\n",
        "from sklearn.linear_model import LogisticRegression\n",
        "from sklearn.model_selection import GridSearchCV\n",
        "from sklearn.metrics import accuracy_score\n",
        "from sklearn.pipeline import make_pipeline\n",
        "from time import time\n",
        "\n",
        "# Ensure that 'genres' is a list by parsing the string representation of lists (if needed)\n",
        "df['genres'] = df['genres'].apply(lambda x: eval(x) if isinstance(x, str) else x)\n",
        "\n",
        "# Extract the first genre for classification (if available)\n",
        "df['genre'] = df['genres'].apply(lambda x: x[0]['name'] if isinstance(x, list) and len(x) > 0 else None)\n",
        "\n",
        "# Remove rows where 'genre' is None (if there are any)\n",
        "df = df.dropna(subset=['genre'])\n",
        "\n",
        "# Extract the first 10 words of the overview\n",
        "df['overview_first_10_words'] = df['overview'].apply(lambda x: ' '.join(x.split()[:10]))\n",
        "\n",
        "# Split the dataset into train and test sets\n",
        "np.random.seed(0)\n",
        "n_train = int(0.8 * len(df))\n",
        "df_shuffle = df.sample(frac=1, random_state=42).reset_index(drop=True)\n",
        "df_train = df_shuffle[:n_train].reset_index(drop=True)\n",
        "df_test = df_shuffle[n_train:].reset_index(drop=True)\n",
        "\n",
        "# Separate features and target\n",
        "X_train = df_train['overview_first_10_words']\n",
        "y_train = df_train['genre']\n",
        "X_test = df_test['overview_first_10_words']\n",
        "y_test = df_test['genre']\n",
        "\n",
        "# Vectorize the text using TF-IDF\n",
        "vectorizer = TfidfVectorizer(max_features=1000)  # You can tweak the number of features\n",
        "\n",
        "# One-Hot Encoding of the target genres\n",
        "encoder = OneHotEncoder(sparse_output=False)\n",
        "y_train_encoded = encoder.fit_transform(y_train.values.reshape(-1, 1))\n",
        "y_test_encoded = encoder.transform(y_test.values.reshape(-1, 1))\n",
        "\n",
        "# Now we will use Logistic Regression as our supervised method\n",
        "# We will also perform grid search for hyperparameter tuning\n",
        "param_grid = {\n",
        "    'logisticregression__C': [0.1, 1, 10],  # Regularization parameter\n",
        "    'logisticregression__max_iter': [100, 200],\n",
        "}\n",
        "\n",
        "# Create a pipeline with TF-IDF vectorizer and Logistic Regression\n",
        "pipe = make_pipeline(\n",
        "    TfidfVectorizer(max_features=1000),\n",
        "    LogisticRegression(solver='liblinear', multi_class='ovr')\n",
        ")\n",
        "\n",
        "# Grid Search for Hyperparameter Tuning\n",
        "grid_search = GridSearchCV(pipe, param_grid, cv=5, verbose=1, n_jobs=-1)\n",
        "\n",
        "# Measure training time\n",
        "start_time = time()\n",
        "grid_search.fit(X_train, y_train)\n",
        "end_time = time()\n",
        "\n",
        "# Training time\n",
        "training_time = end_time - start_time\n",
        "\n",
        "# Best model after grid search\n",
        "best_model = grid_search.best_estimator_\n",
        "\n",
        "# Evaluate on training and test data\n",
        "train_score = best_model.score(X_train, y_train)\n",
        "test_score = best_model.score(X_test, y_test)\n",
        "\n",
        "# Measure inference time\n",
        "start_time = time()\n",
        "y_pred = best_model.predict(X_test)\n",
        "end_time = time()\n",
        "inference_time = end_time - start_time\n",
        "\n",
        "# Accuracy score\n",
        "test_accuracy = accuracy_score(y_test, y_pred)\n",
        "\n",
        "# Print results\n",
        "print(\"Train accuracy:\", train_score)\n",
        "print(\"Test accuracy:\", test_score)\n",
        "print(\"Mean training time (in seconds):\", training_time)\n",
        "print(\"Mean inference time (in seconds):\", inference_time)\n",
        "print(\"Test accuracy (via accuracy_score):\", test_accuracy)"
      ]
    },
    {
      "cell_type": "markdown",
      "id": "5976997e",
      "metadata": {
        "id": "5976997e"
      },
      "source": [
        "Write a paragraph of ~150 words about how you went about selecting and tuning your model, and how you may want to make improvements to your model if you were to continue working on this. Plots are very good but not strictly necessary (i.e. try to add plots if you can)."
      ]
    },
    {
      "cell_type": "markdown",
      "id": "54186a60",
      "metadata": {
        "id": "54186a60"
      },
      "source": [
        "To select and execute my model, I did both Logical Regression and Random Forest. I started with Log Reg due to its simplicity and easiness to interpret. I used cross-validation to optimise hyperparameters using grid search, which improved the model's performance.\n",
        "\n",
        "Then, I did a Random Forest Model, to compare it to the Log Reg. The Ran For Model had a higher accuracies for both test and train. Both models showed similar test accuracy (ca 0.32), but Ran For had a signicifantly higher train accuracy (0.66 vs 0.47). This indicates, that the Random Forest Model was likely overfitting the training data, therefore while being better to memorise the training data, it was not really better at generalising this.\n",
        "\n",
        "For further improvements, it would be good to further fine tune the hyperparameters (especially for Ran For), to balance the trade-off of over and underfitting. Depending on the size of the data, a neural network could also yield a higher performance while being much more complex."
      ]
    },
    {
      "cell_type": "code",
      "source": [
        "import matplotlib.pyplot as plt\n",
        "\n",
        "# Define the models' accuracies\n",
        "models = ['Logistic Regression', 'Random Forest']\n",
        "\n",
        "log_reg_train_accuracy = 0.466\n",
        "log_reg_test_accuracy = 0.317\n",
        "\n",
        "rf_train_accuracy = 0.659\n",
        "rf_test_accuracy = 0.329\n",
        "\n",
        "train_accuracies = [log_reg_train_accuracy, rf_train_accuracy]\n",
        "test_accuracies = [log_reg_test_accuracy, rf_test_accuracy]\n",
        "\n",
        "# Plot\n",
        "fig, ax = plt.subplots(figsize=(8, 6))\n",
        "bar_width = 0.35\n",
        "index = range(len(models))\n",
        "\n",
        "# Plot bars for train and test accuracies\n",
        "bar1 = ax.bar(index, train_accuracies, bar_width, label='Train Accuracy', color='b')\n",
        "bar2 = ax.bar([i + bar_width for i in index], test_accuracies, bar_width, label='Test Accuracy', color='g')\n",
        "\n",
        "# Labels and title\n",
        "ax.set_xlabel('Model')\n",
        "ax.set_ylabel('Accuracy')\n",
        "ax.set_title('Comparison of Model Performance (Train vs Test)')\n",
        "ax.set_xticks([i + bar_width / 2 for i in index])\n",
        "ax.set_xticklabels(models)\n",
        "ax.legend()\n",
        "\n",
        "# Show plot\n",
        "plt.tight_layout()\n",
        "plt.show()\n"
      ],
      "metadata": {
        "colab": {
          "base_uri": "https://localhost:8080/",
          "height": 607
        },
        "id": "gfeu7C10wtVz",
        "outputId": "e56e25a6-cc51-498b-b12c-c8b7b6149b80"
      },
      "id": "gfeu7C10wtVz",
      "execution_count": null,
      "outputs": [
        {
          "output_type": "display_data",
          "data": {
            "text/plain": [
              "<Figure size 800x600 with 1 Axes>"
            ],
            "image/png": "[encoded data removed]"
          },
          "metadata": {}
        }
      ]
    },
    {
      "cell_type": "code",
      "source": [
        "#Rndm Forest\n",
        "import pandas as pd\n",
        "import numpy as np\n",
        "from sklearn.ensemble import RandomForestClassifier\n",
        "from sklearn.model_selection import train_test_split, GridSearchCV\n",
        "from sklearn.feature_extraction.text import TfidfVectorizer\n",
        "from sklearn.metrics import accuracy_score\n",
        "import time\n",
        "\n",
        "# Assuming 'df' is the DataFrame with the required columns\n",
        "# Step 1: Preprocess data - Extract first 10 words from 'overview'\n",
        "df['overview_first_10_words'] = df['overview'].apply(lambda x: ' '.join(x.split()[:10]))\n",
        "\n",
        "# Step 2: Prepare features (X) and target (y)\n",
        "X = df['overview_first_10_words']\n",
        "y = df['genre']  # Assuming 'genre' column contains the genre of the movie\n",
        "\n",
        "# Step 3: Train/Test Split\n",
        "X_train, X_test, y_train, y_test = train_test_split(X, y, test_size=0.2, random_state=42)\n",
        "\n",
        "# Step 4: Vectorize the text data using TF-IDF\n",
        "vectorizer = TfidfVectorizer(max_features=1000)\n",
        "X_train_tfidf = vectorizer.fit_transform(X_train)\n",
        "X_test_tfidf = vectorizer.transform(X_test)\n",
        "\n",
        "# Step 5: Initialize the Random Forest Classifier\n",
        "rf = RandomForestClassifier(random_state=42)\n",
        "\n",
        "# Step 6: Hyperparameter tuning using GridSearchCV (optional but can improve performance)\n",
        "param_grid = {\n",
        "    'n_estimators': [50, 100, 200],  # Number of trees in the forest\n",
        "    'max_depth': [10, 20, None],      # Maximum depth of trees\n",
        "    'min_samples_split': [2, 5],      # Minimum number of samples to split an internal node\n",
        "    'min_samples_leaf': [1, 2, 4]     # Minimum number of samples required to be at a leaf node\n",
        "}\n",
        "\n",
        "# Step 7: Grid search for hyperparameter tuning\n",
        "grid_search = GridSearchCV(estimator=rf, param_grid=param_grid, cv=5, n_jobs=-1, verbose=2)\n",
        "grid_search.fit(X_train_tfidf, y_train)\n",
        "\n",
        "# Step 8: Best hyperparameters from grid search\n",
        "best_params = grid_search.best_params_\n",
        "print(f\"Best hyperparameters: {best_params}\")\n",
        "\n",
        "# Step 9: Train Random Forest with the best hyperparameters\n",
        "rf_best = grid_search.best_estimator_\n",
        "\n",
        "# Step 10: Model evaluation\n",
        "start_time = time.time()\n",
        "y_train_pred = rf_best.predict(X_train_tfidf)\n",
        "train_time = time.time() - start_time\n",
        "\n",
        "start_time = time.time()\n",
        "y_test_pred = rf_best.predict(X_test_tfidf)\n",
        "inference_time = time.time() - start_time\n",
        "\n",
        "# Accuracy scores\n",
        "train_accuracy = accuracy_score(y_train, y_train_pred)\n",
        "test_accuracy = accuracy_score(y_test, y_test_pred)\n",
        "\n",
        "print(f\"Train accuracy: {train_accuracy}\")\n",
        "print(f\"Test accuracy: {test_accuracy}\")\n",
        "print(f\"Mean training time (in seconds): {train_time}\")\n",
        "print(f\"Mean inference time (in seconds): {inference_time}\")\n"
      ],
      "metadata": {
        "colab": {
          "base_uri": "https://localhost:8080/"
        },
        "id": "sxQQqBVitkCw",
        "outputId": "9a5e055c-594d-4242-85d3-671dc346d7aa"
      },
      "id": "sxQQqBVitkCw",
      "execution_count": null,
      "outputs": [
        {
          "output_type": "stream",
          "name": "stdout",
          "text": [
            "Fitting 5 folds for each of 54 candidates, totalling 270 fits\n"
          ]
        },
        {
          "output_type": "stream",
          "name": "stderr",
          "text": [
            "/usr/local/lib/python3.11/dist-packages/sklearn/model_selection/_split.py:805: UserWarning: The least populated class in y has only 1 members, which is less than n_splits=5.\n",
            "  warnings.warn(\n"
          ]
        },
        {
          "output_type": "stream",
          "name": "stdout",
          "text": [
            "Best hyperparameters: {'max_depth': None, 'min_samples_leaf': 2, 'min_samples_split': 5, 'n_estimators': 200}\n",
            "Train accuracy: 0.6598130841121496\n",
            "Test accuracy: 0.3287086446104589\n",
            "Mean training time (in seconds): 0.2739253044128418\n",
            "Mean inference time (in seconds): 0.0793004035949707\n"
          ]
        }
      ]
    },
    {
      "cell_type": "markdown",
      "id": "14b50007",
      "metadata": {
        "id": "14b50007"
      },
      "source": [
        "# BONUS\n",
        "\n",
        "If you are happy with your score and wish to see how well it is doing with respect to other people (a sort of mini-competition), fill out the following form with the train_score (accuracy$\\in[0,1]$), test_score (accuracy$\\in[0,1]$), mean training time (in seconds), and mean inference time (in seconds) of your model, as well as what method you use. You can submit as many times before the deadline as you wish. Your final results will be correlated with your submission in order to validate your results (if we cannot validate them, they will be immediately disqualified).\n",
        "\n",
        "[FORM HERE](https://forms.gle/rXRtXScABH5oDLRWA)"
      ]
    }
  ],
  "metadata": {
    "kernelspec": {
      "display_name": "Python 3 (ipykernel)",
      "language": "python",
      "name": "python3"
    },
    "language_info": {
      "codemirror_mode": {
        "name": "ipython",
        "version": 3
      },
      "file_extension": ".py",
      "mimetype": "text/x-python",
      "name": "python",
      "nbconvert_exporter": "python",
      "pygments_lexer": "ipython3",
      "version": "3.10.7"
    },
    "colab": {
      "provenance": [],
      "include_colab_link": true
    }
  },
  "nbformat": 4,
  "nbformat_minor": 5
}